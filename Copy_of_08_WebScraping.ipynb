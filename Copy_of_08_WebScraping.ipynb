{
  "nbformat": 4,
  "nbformat_minor": 0,
  "metadata": {
    "colab": {
      "provenance": []
    },
    "kernelspec": {
      "name": "python3",
      "display_name": "Python 3"
    },
    "language_info": {
      "name": "python"
    }
  },
  "cells": [
    {
      "cell_type": "markdown",
      "metadata": {
        "id": "Td29fzVeortK"
      },
      "source": [
        "# Web scraping con Python"
      ]
    },
    {
      "cell_type": "markdown",
      "metadata": {
        "id": "eIXfGV6tQGTQ"
      },
      "source": [
        "Prof. Alejandra Chavez, Msc."
      ]
    },
    {
      "cell_type": "markdown",
      "metadata": {
        "id": "sTFP8FMMovHS"
      },
      "source": [
        "En internet encontramos una increíble cantidad de datos, que pueden ser recursos valiosos para cualquier investigación ya sea científica o de interes personal.\n",
        "\n",
        "El texto fuente de las páginas web están escritas en el lenguaje Hypertext Markup Language (HTML). El código fuente escrito en HTML es una mezcla de información legible tanto para humanos como para las máquinas, llamados tags o etiquetas. Navegadores como Chrome, Firefox, Safari o Edge pueden procesar el texto fuente, interpretar las etiquetas y presentar al usuario la información que contienen de forma fácilmente entendible.\n",
        "\n",
        "##[Scrapers](https://es.wikipedia.org/wiki/Web_scraping#:~:text=Web%20scraping%20o%20raspado%20web,un%20navegador%20en%20una%20aplicaci%C3%B3n.)\n",
        "\n",
        "\n",
        "Para extraer del texto fuente únicamente la información que le interesa al usuario, se utiliza un tipo software especial. Se trata de los programas llamados web scrapers, crawlers, spiders o, simplemente, bots, que examinan el texto fuente de las páginas en busca de patrones concretos y extraen la información que contienen. Los datos conseguidos mediante web scraping posteriormente se resumen, combinan, evalúan o almacenan para ser usados más adelante."
      ]
    },
    {
      "cell_type": "markdown",
      "metadata": {
        "id": "7N0q6liFzVkI"
      },
      "source": [
        "##Web scraping\n",
        "\n",
        "Qué es?\n",
        "Web scraping es el proceso de recolectar información de internet. Hasta copiar y pegar los lyrics de una canción es una forma de web scraping. Sin embargo, la expresión \"web scraping\" usualmente se refiere al proceso automatizado de recolectar información. Existen páginas web que restingen el uso de scrapers, pero hay muchas otras a las que no les molesta.\n",
        "\n",
        "Siempre es buena idea (y buena práctica) investigar un pcoo sobre la página a la que haremos scraping, para estar seguros de que no estamos violando ningún Término de Servicios o licencias, que podría traer implicaciones legales a nuestro trabajo.\n",
        "\n",
        "\n",
        "\n",
        "El esquema es bastante sencillo:\n",
        "\n",
        "El desarrollador del scrapper analiza el texto HTML de la pagina web; por lo general se encuentran patrones claros que permitiran extraer la información. Entonces el scraper es programado para identificar automáticamente dichos patrones y realizar el resto del trabajo.\n",
        "\n",
        "- Abrir la página web a través del URL.\n",
        "- Extraer automáticamente los datos estructurados a partir de los patrones.\n",
        "- Resumir, almacenar, evaluar o combinar los datos extraídos, entre otras acciones.\n",
        "\n",
        "\n",
        "**Casos de aplicación del web scraping**\n",
        "El web scraping puede tener aplicaciones muy diversas. Además de para la indexación de buscadores, el web scraping también puede usarse con los siguientes fines, entre muchos otros:\n",
        "\n",
        "* Crear bases de datos de contactos\n",
        "* Controlar y comparar ofertas online\n",
        "* Reunir datos de diversas fuentes online\n",
        "* Observar la evolución de la presencia y la reputación online\n",
        "* Reunir datos financieros, meteorológicos o de otro tipo\n",
        "* Observar cambios en el contenido de páginas web\n",
        "* Reunir datos con fines de investigación\n",
        "* Realizar exploraciones de datos o data mining\n",
        "\n",
        "\n"
      ]
    },
    {
      "cell_type": "markdown",
      "metadata": {
        "id": "xSYxWqFYrJm4"
      },
      "source": [
        "##¿Por qué Python?\n",
        "\n",
        "Las páginas web estan cambiando constantemente, siendo modificadas y actualizadas, tanto en contenido como en formato y diseño, por ejemplo, se le añaden nuevos elementos, botones, etc. Los web scrappers se desarrollan teniendo en cuenta la estructura específica de cada pagina web, por lo que cuando ésta cambia, el scraper debe de ser modificado también. Esta tarea resulta especialmente sencilla con Python.\n",
        "\n",
        "Python tambien cuenta con puntos fuertes, como ser el procesamiento de texto y la apertura de los recursos web, dos de las bases técnicas del web scraping. Python, además es un standard consolidado en el ámbito de analisis y procesamiento de datos; también ofrece un amplio ecosistema de progración y cuenta con bibliotecas, proyectos de código abierto y documentación explicativas del lenguaje y muy útiles.\n",
        "\n",
        "Concretamente, existen varias herramientas consolidadas diseñadas para hacer web scraping con Python; por ejemplo Scrapy, Selenium y BeautifulSoup.\n"
      ]
    },
    {
      "cell_type": "markdown",
      "metadata": {
        "id": "TAQX7sjo3Vkn"
      },
      "source": [
        "## Es legal el Web Scraping?\n",
        "\n",
        "Desafortunadamente, no hay una respuesta correcta. Algunas websites permiten específicamente el scraping. Otras expecíficamente la prohiben; muchas otras websites no ofrecen una guia clara sobre si está permitido o no.\n",
        "\n",
        "Antes de scrapear una website, debemos de leer los términos y condiciones de la pagina y ver si existen reglas específicas sobre scrapear la pagina.Si existen, deberiamos de seguirlas, sino, queda a criterio nuestro si la usamos o no.\n",
        "\n",
        "Sin embargo, recordemos que el web scraping consume recursos del servidor para el sitio web. Si solo scrapeamos una página una vez, eso no causará ningún problema. Pero si nuestro código está scrapeando 1,000 páginas una vez cada diez minutos, eso podría volverse costoso rápidamente para el propietario del sitio web.\n",
        "\n",
        "Por lo tanto, además de seguir todas y cada una de las reglas explícitas sobre el web scraping publicadas en el sitio en cuestión, también es una buena idea seguir estas prácticas recomendadas:\n",
        "\n",
        "## Web Scraping - Mejores Prácticas:\n",
        "\n",
        "* Nunca screapee con más frecuencia de la necesaria.\n",
        "* Considere almacenar en caché el contenido que extraiga para que solo se descargue una vez.\n",
        "* Cree pausas en su código utilizando funciones como time.sleep () para evitar abrumar a los servidores con demasiadas solicitudes demasiado rápido."
      ]
    },
    {
      "cell_type": "markdown",
      "metadata": {
        "id": "ZsV-1_il4L4T"
      },
      "source": [
        "## Desafios del Web Scraping\n",
        "\n",
        "- Un desafío es la **variedad**. Cada sitio web es diferente. Si bien encontrará estructuras generales que tienden a repetirse, cada sitio web es único y necesitará su propio tratamiento personal si desea extraer la información que es relevante.\n",
        "\n",
        "- Otro desafío es la **durabilidad**. Los sitios web cambian constantemente. Supongamos que ha creado un nuevo y brillante scraper web que selecciona automáticamente el recurso que desea. La primera vez que ejecuta su script, funciona perfectamente. Pero cuando ejecuta la misma secuencia de comandos poco tiempo después, se encuentra con una pila desalentadora y larga de trazas.\n",
        "\n",
        "Este es un escenario realista, ya que muchos sitios web están en desarrollo activo. Una vez que la estructura del sitio ha cambiado, es posible que su scraper no pueda navegar correctamente por el mapa del sitio o encontrar la información relevante. La buena noticia es que muchos cambios en los sitios web son pequeños e incrementales, por lo que probablemente podrá actualizar su scraper con solo ajustes mínimos."
      ]
    },
    {
      "cell_type": "markdown",
      "metadata": {
        "id": "uvixJ--t3nkU"
      },
      "source": [
        "## Las API como alternativa al web scraping\n",
        "\n",
        "Algunos proveedores de sitios web ofrecen interfaces de programación de aplicaciones (API) que le permiten acceder a sus datos de una manera predefinida. Con las API, puede evitar el análisis de HTML y, en su lugar, acceder a los datos directamente utilizando formatos como JSON y XML. HTML es principalmente una forma de presentar contenido visualmente a los usuarios.\n",
        "\n",
        "Cuando usa una API, el proceso es generalmente más estable que la recopilación de datos a través de web scraping. Esto se debe a que las API están diseñadas para ser consumidas por programas, en lugar de por ojos humanos. Si cambia el diseño de un sitio web, no significa que la estructura de la API haya cambiado.\n",
        "\n",
        "Sin embargo, las API también pueden cambiar. Los desafíos de variedad y durabilidad se aplican tanto a las API como a los sitios web. Además, es mucho más difícil inspeccionar la estructura de una API por ti mismo si la documentación proporcionada carece de calidad.\n"
      ]
    },
    {
      "cell_type": "markdown",
      "metadata": {
        "id": "Stq5B4dG3egx"
      },
      "source": [
        "## Componentes de una pagina web\n",
        "\n",
        "Antes de comenzar a escribir código, debemos comprender un poco la estructura de una página web. Usaremos la estructura del sitio para escribir código que nos proporcione los datos que queremos scrapear, por lo que comprender esa estructura es un primer paso importante para cualquier proyecto del web scraping.\n",
        "\n",
        "Cuando visitamos una página web, nuestro navegador web realiza una solicitud a un servidor web. Esta solicitud se denomina *solicitud GET*, ya que obtenemos archivos del servidor. Luego, el servidor devuelve archivos que le dicen a nuestro navegador cómo representar la página para nosotros. Estos archivos normalmente incluirán:\n",
        "\n",
        "* [HTML](https://en.wikipedia.org/wiki/HTML): el contenido principal de la página.\n",
        "* CSS: se usa para agregar estilo y hacer que la página se vea mejor.\n",
        "* JS: los archivos Javascript agregan interactividad a las páginas web.\n",
        "* Imágenes: los formatos de imagen, como JPG y PNG, permiten que las páginas web muestren imágenes.\n",
        "\n",
        "Una vez que nuestro navegador recibe todos los archivos, procesa la página y nos la muestra.\n",
        "\n",
        "Hay muchas cosas que suceden detrás de escena para renderizar una página bien, pero no tenemos que preocuparnos por la mayor parte cuando estamos haciendo  web scraping. Cuando realizamos web scraping, nos interesa el contenido principal de la página web, por lo que nos fijamos principalmente en el HTML."
      ]
    },
    {
      "cell_type": "markdown",
      "metadata": {
        "id": "0oCmahFk9yzO"
      },
      "source": [
        "# Construyendo un web scraper\n",
        "\n",
        "## Let`s practice...!!\n",
        "\n",
        "### Ejemplo 1 (very easy)\n",
        "\n",
        "Scrapeando Frases"
      ]
    },
    {
      "cell_type": "code",
      "source": [
        "# Importar módulos\n",
        "import requests\n",
        "import csv\n",
        "from bs4 import BeautifulSoup\n"
      ],
      "metadata": {
        "id": "nRKGo3kUDdEM"
      },
      "execution_count": null,
      "outputs": []
    },
    {
      "cell_type": "code",
      "source": [
        "# Dirección de la página web\n",
        "url = \"http://quotes.toscrape.com/\"\n",
        "url"
      ],
      "metadata": {
        "colab": {
          "base_uri": "https://localhost:8080/",
          "height": 36
        },
        "id": "whKpIUPsDdBN",
        "outputId": "29894f4d-48ae-444a-be90-d390570ba72b"
      },
      "execution_count": null,
      "outputs": [
        {
          "output_type": "execute_result",
          "data": {
            "text/plain": [
              "'http://quotes.toscrape.com/'"
            ],
            "application/vnd.google.colaboratory.intrinsic+json": {
              "type": "string"
            }
          },
          "metadata": {},
          "execution_count": 2
        }
      ]
    },
    {
      "cell_type": "code",
      "source": [
        "# Ejecutar GET-Request\n",
        "response = requests.get(url)\n",
        "response"
      ],
      "metadata": {
        "colab": {
          "base_uri": "https://localhost:8080/"
        },
        "id": "LW9cPWETDcyU",
        "outputId": "65e8fb6a-5983-4ba6-b6b6-9b12ef4ee10e"
      },
      "execution_count": null,
      "outputs": [
        {
          "output_type": "execute_result",
          "data": {
            "text/plain": [
              "<Response [200]>"
            ]
          },
          "metadata": {},
          "execution_count": 3
        }
      ]
    },
    {
      "cell_type": "code",
      "source": [
        "response.text"
      ],
      "metadata": {
        "id": "dmuON4jhEHq3",
        "colab": {
          "base_uri": "https://localhost:8080/",
          "height": 244
        },
        "outputId": "7cc2ac15-8585-4c5a-a80f-943e8f8d9921"
      },
      "execution_count": null,
      "outputs": [
        {
          "output_type": "execute_result",
          "data": {
            "text/plain": [
              "'<!DOCTYPE html>\\n<html lang=\"en\">\\n<head>\\n\\t<meta charset=\"UTF-8\">\\n\\t<title>Quotes to Scrape</title>\\n    <link rel=\"stylesheet\" href=\"/static/bootstrap.min.css\">\\n    <link rel=\"stylesheet\" href=\"/static/main.css\">\\n</head>\\n<body>\\n    <div class=\"container\">\\n        <div class=\"row header-box\">\\n            <div class=\"col-md-8\">\\n                <h1>\\n                    <a href=\"/\" style=\"text-decoration: none\">Quotes to Scrape</a>\\n                </h1>\\n            </div>\\n            <div class=\"col-md-4\">\\n                <p>\\n                \\n                    <a href=\"/login\">Login</a>\\n                \\n                </p>\\n            </div>\\n        </div>\\n    \\n\\n<div class=\"row\">\\n    <div class=\"col-md-8\">\\n\\n    <div class=\"quote\" itemscope itemtype=\"http://schema.org/CreativeWork\">\\n        <span class=\"text\" itemprop=\"text\">“The world as we have created it is a process of our thinking. It cannot be changed without changing our thinking.”</span>\\n        <span>by <small class=\"author\" itemprop=\"author\">Albert Einstein</small>\\n        <a href=\"/author/Albert-Einstein\">(about)</a>\\n        </span>\\n        <div class=\"tags\">\\n            Tags:\\n            <meta class=\"keywords\" itemprop=\"keywords\" content=\"change,deep-thoughts,thinking,world\" /    > \\n            \\n            <a class=\"tag\" href=\"/tag/change/page/1/\">change</a>\\n            \\n            <a class=\"tag\" href=\"/tag/deep-thoughts/page/1/\">deep-thoughts</a>\\n            \\n            <a class=\"tag\" href=\"/tag/thinking/page/1/\">thinking</a>\\n            \\n            <a class=\"tag\" href=\"/tag/world/page/1/\">world</a>\\n            \\n        </div>\\n    </div>\\n\\n    <div class=\"quote\" itemscope itemtype=\"http://schema.org/CreativeWork\">\\n        <span class=\"text\" itemprop=\"text\">“It is our choices, Harry, that show what we truly are, far more than our abilities.”</span>\\n        <span>by <small class=\"author\" itemprop=\"author\">J.K. Rowling</small>\\n        <a href=\"/author/J-K-Rowling\">(about)</a>\\n        </span>\\n        <div class=\"tags\">\\n            Tags:\\n            <meta class=\"keywords\" itemprop=\"keywords\" content=\"abilities,choices\" /    > \\n            \\n            <a class=\"tag\" href=\"/tag/abilities/page/1/\">abilities</a>\\n            \\n            <a class=\"tag\" href=\"/tag/choices/page/1/\">choices</a>\\n            \\n        </div>\\n    </div>\\n\\n    <div class=\"quote\" itemscope itemtype=\"http://schema.org/CreativeWork\">\\n        <span class=\"text\" itemprop=\"text\">“There are only two ways to live your life. One is as though nothing is a miracle. The other is as though everything is a miracle.”</span>\\n        <span>by <small class=\"author\" itemprop=\"author\">Albert Einstein</small>\\n        <a href=\"/author/Albert-Einstein\">(about)</a>\\n        </span>\\n        <div class=\"tags\">\\n            Tags:\\n            <meta class=\"keywords\" itemprop=\"keywords\" content=\"inspirational,life,live,miracle,miracles\" /    > \\n            \\n            <a class=\"tag\" href=\"/tag/inspirational/page/1/\">inspirational</a>\\n            \\n            <a class=\"tag\" href=\"/tag/life/page/1/\">life</a>\\n            \\n            <a class=\"tag\" href=\"/tag/live/page/1/\">live</a>\\n            \\n            <a class=\"tag\" href=\"/tag/miracle/page/1/\">miracle</a>\\n            \\n            <a class=\"tag\" href=\"/tag/miracles/page/1/\">miracles</a>\\n            \\n        </div>\\n    </div>\\n\\n    <div class=\"quote\" itemscope itemtype=\"http://schema.org/CreativeWork\">\\n        <span class=\"text\" itemprop=\"text\">“The person, be it gentleman or lady, who has not pleasure in a good novel, must be intolerably stupid.”</span>\\n        <span>by <small class=\"author\" itemprop=\"author\">Jane Austen</small>\\n        <a href=\"/author/Jane-Austen\">(about)</a>\\n        </span>\\n        <div class=\"tags\">\\n            Tags:\\n            <meta class=\"keywords\" itemprop=\"keywords\" content=\"aliteracy,books,classic,humor\" /    > \\n            \\n            <a class=\"tag\" href=\"/tag/aliteracy/page/1/\">aliteracy</a>\\n            \\n            <a class=\"tag\" href=\"/tag/books/page/1/\">books</a>\\n            \\n            <a class=\"tag\" href=\"/tag/classic/page/1/\">classic</a>\\n            \\n            <a class=\"tag\" href=\"/tag/humor/page/1/\">humor</a>\\n            \\n        </div>\\n    </div>\\n\\n    <div class=\"quote\" itemscope itemtype=\"http://schema.org/CreativeWork\">\\n        <span class=\"text\" itemprop=\"text\">“Imperfection is beauty, madness is genius and it&#39;s better to be absolutely ridiculous than absolutely boring.”</span>\\n        <span>by <small class=\"author\" itemprop=\"author\">Marilyn Monroe</small>\\n        <a href=\"/author/Marilyn-Monroe\">(about)</a>\\n        </span>\\n        <div class=\"tags\">\\n            Tags:\\n            <meta class=\"keywords\" itemprop=\"keywords\" content=\"be-yourself,inspirational\" /    > \\n            \\n            <a class=\"tag\" href=\"/tag/be-yourself/page/1/\">be-yourself</a>\\n            \\n            <a class=\"tag\" href=\"/tag/inspirational/page/1/\">inspirational</a>\\n            \\n        </div>\\n    </div>\\n\\n    <div class=\"quote\" itemscope itemtype=\"http://schema.org/CreativeWork\">\\n        <span class=\"text\" itemprop=\"text\">“Try not to become a man of success. Rather become a man of value.”</span>\\n        <span>by <small class=\"author\" itemprop=\"author\">Albert Einstein</small>\\n        <a href=\"/author/Albert-Einstein\">(about)</a>\\n        </span>\\n        <div class=\"tags\">\\n            Tags:\\n            <meta class=\"keywords\" itemprop=\"keywords\" content=\"adulthood,success,value\" /    > \\n            \\n            <a class=\"tag\" href=\"/tag/adulthood/page/1/\">adulthood</a>\\n            \\n            <a class=\"tag\" href=\"/tag/success/page/1/\">success</a>\\n            \\n            <a class=\"tag\" href=\"/tag/value/page/1/\">value</a>\\n            \\n        </div>\\n    </div>\\n\\n    <div class=\"quote\" itemscope itemtype=\"http://schema.org/CreativeWork\">\\n        <span class=\"text\" itemprop=\"text\">“It is better to be hated for what you are than to be loved for what you are not.”</span>\\n        <span>by <small class=\"author\" itemprop=\"author\">André Gide</small>\\n        <a href=\"/author/Andre-Gide\">(about)</a>\\n        </span>\\n        <div class=\"tags\">\\n            Tags:\\n            <meta class=\"keywords\" itemprop=\"keywords\" content=\"life,love\" /    > \\n            \\n            <a class=\"tag\" href=\"/tag/life/page/1/\">life</a>\\n            \\n            <a class=\"tag\" href=\"/tag/love/page/1/\">love</a>\\n            \\n        </div>\\n    </div>\\n\\n    <div class=\"quote\" itemscope itemtype=\"http://schema.org/CreativeWork\">\\n        <span class=\"text\" itemprop=\"text\">“I have not failed. I&#39;ve just found 10,000 ways that won&#39;t work.”</span>\\n        <span>by <small class=\"author\" itemprop=\"author\">Thomas A. Edison</small>\\n        <a href=\"/author/Thomas-A-Edison\">(about)</a>\\n        </span>\\n        <div class=\"tags\">\\n            Tags:\\n            <meta class=\"keywords\" itemprop=\"keywords\" content=\"edison,failure,inspirational,paraphrased\" /    > \\n            \\n            <a class=\"tag\" href=\"/tag/edison/page/1/\">edison</a>\\n            \\n            <a class=\"tag\" href=\"/tag/failure/page/1/\">failure</a>\\n            \\n            <a class=\"tag\" href=\"/tag/inspirational/page/1/\">inspirational</a>\\n            \\n            <a class=\"tag\" href=\"/tag/paraphrased/page/1/\">paraphrased</a>\\n            \\n        </div>\\n    </div>\\n\\n    <div class=\"quote\" itemscope itemtype=\"http://schema.org/CreativeWork\">\\n        <span class=\"text\" itemprop=\"text\">“A woman is like a tea bag; you never know how strong it is until it&#39;s in hot water.”</span>\\n        <span>by <small class=\"author\" itemprop=\"author\">Eleanor Roosevelt</small>\\n        <a href=\"/author/Eleanor-Roosevelt\">(about)</a>\\n        </span>\\n        <div class=\"tags\">\\n            Tags:\\n            <meta class=\"keywords\" itemprop=\"keywords\" content=\"misattributed-eleanor-roosevelt\" /    > \\n            \\n            <a class=\"tag\" href=\"/tag/misattributed-eleanor-roosevelt/page/1/\">misattributed-eleanor-roosevelt</a>\\n            \\n        </div>\\n    </div>\\n\\n    <div class=\"quote\" itemscope itemtype=\"http://schema.org/CreativeWork\">\\n        <span class=\"text\" itemprop=\"text\">“A day without sunshine is like, you know, night.”</span>\\n        <span>by <small class=\"author\" itemprop=\"author\">Steve Martin</small>\\n        <a href=\"/author/Steve-Martin\">(about)</a>\\n        </span>\\n        <div class=\"tags\">\\n            Tags:\\n            <meta class=\"keywords\" itemprop=\"keywords\" content=\"humor,obvious,simile\" /    > \\n            \\n            <a class=\"tag\" href=\"/tag/humor/page/1/\">humor</a>\\n            \\n            <a class=\"tag\" href=\"/tag/obvious/page/1/\">obvious</a>\\n            \\n            <a class=\"tag\" href=\"/tag/simile/page/1/\">simile</a>\\n            \\n        </div>\\n    </div>\\n\\n    <nav>\\n        <ul class=\"pager\">\\n            \\n            \\n            <li class=\"next\">\\n                <a href=\"/page/2/\">Next <span aria-hidden=\"true\">&rarr;</span></a>\\n            </li>\\n            \\n        </ul>\\n    </nav>\\n    </div>\\n    <div class=\"col-md-4 tags-box\">\\n        \\n            <h2>Top Ten tags</h2>\\n            \\n            <span class=\"tag-item\">\\n            <a class=\"tag\" style=\"font-size: 28px\" href=\"/tag/love/\">love</a>\\n            </span>\\n            \\n            <span class=\"tag-item\">\\n            <a class=\"tag\" style=\"font-size: 26px\" href=\"/tag/inspirational/\">inspirational</a>\\n            </span>\\n            \\n            <span class=\"tag-item\">\\n            <a class=\"tag\" style=\"font-size: 26px\" href=\"/tag/life/\">life</a>\\n            </span>\\n            \\n            <span class=\"tag-item\">\\n            <a class=\"tag\" style=\"font-size: 24px\" href=\"/tag/humor/\">humor</a>\\n            </span>\\n            \\n            <span class=\"tag-item\">\\n            <a class=\"tag\" style=\"font-size: 22px\" href=\"/tag/books/\">books</a>\\n            </span>\\n            \\n            <span class=\"tag-item\">\\n            <a class=\"tag\" style=\"font-size: 14px\" href=\"/tag/reading/\">reading</a>\\n            </span>\\n            \\n            <span class=\"tag-item\">\\n            <a class=\"tag\" style=\"font-size: 10px\" href=\"/tag/friendship/\">friendship</a>\\n            </span>\\n            \\n            <span class=\"tag-item\">\\n            <a class=\"tag\" style=\"font-size: 8px\" href=\"/tag/friends/\">friends</a>\\n            </span>\\n            \\n            <span class=\"tag-item\">\\n            <a class=\"tag\" style=\"font-size: 8px\" href=\"/tag/truth/\">truth</a>\\n            </span>\\n            \\n            <span class=\"tag-item\">\\n            <a class=\"tag\" style=\"font-size: 6px\" href=\"/tag/simile/\">simile</a>\\n            </span>\\n            \\n        \\n    </div>\\n</div>\\n\\n    </div>\\n    <footer class=\"footer\">\\n        <div class=\"container\">\\n            <p class=\"text-muted\">\\n                Quotes by: <a href=\"https://www.goodreads.com/quotes\">GoodReads.com</a>\\n            </p>\\n            <p class=\"copyright\">\\n                Made with <span class=\\'sh-red\\'>❤</span> by <a href=\"https://scrapinghub.com\">Scrapinghub</a>\\n            </p>\\n        </div>\\n    </footer>\\n</body>\\n</html>'"
            ],
            "application/vnd.google.colaboratory.intrinsic+json": {
              "type": "string"
            }
          },
          "metadata": {},
          "execution_count": 4
        }
      ]
    },
    {
      "cell_type": "code",
      "source": [
        "# Analizar sintácticamente el archivo HTML de BeautifulSoup del texto fuente\n",
        "html = BeautifulSoup(response.text, 'html.parser')\n",
        "html"
      ],
      "metadata": {
        "colab": {
          "base_uri": "https://localhost:8080/"
        },
        "id": "z1GWR_mfEBda",
        "outputId": "e6973211-f0f6-4995-946c-bc262a0e30be"
      },
      "execution_count": null,
      "outputs": [
        {
          "output_type": "execute_result",
          "data": {
            "text/plain": [
              "<!DOCTYPE html>\n",
              "\n",
              "<html lang=\"en\">\n",
              "<head>\n",
              "<meta charset=\"utf-8\"/>\n",
              "<title>Quotes to Scrape</title>\n",
              "<link href=\"/static/bootstrap.min.css\" rel=\"stylesheet\"/>\n",
              "<link href=\"/static/main.css\" rel=\"stylesheet\"/>\n",
              "</head>\n",
              "<body>\n",
              "<div class=\"container\">\n",
              "<div class=\"row header-box\">\n",
              "<div class=\"col-md-8\">\n",
              "<h1>\n",
              "<a href=\"/\" style=\"text-decoration: none\">Quotes to Scrape</a>\n",
              "</h1>\n",
              "</div>\n",
              "<div class=\"col-md-4\">\n",
              "<p>\n",
              "<a href=\"/login\">Login</a>\n",
              "</p>\n",
              "</div>\n",
              "</div>\n",
              "<div class=\"row\">\n",
              "<div class=\"col-md-8\">\n",
              "<div class=\"quote\" itemscope=\"\" itemtype=\"http://schema.org/CreativeWork\">\n",
              "<span class=\"text\" itemprop=\"text\">“The world as we have created it is a process of our thinking. It cannot be changed without changing our thinking.”</span>\n",
              "<span>by <small class=\"author\" itemprop=\"author\">Albert Einstein</small>\n",
              "<a href=\"/author/Albert-Einstein\">(about)</a>\n",
              "</span>\n",
              "<div class=\"tags\">\n",
              "            Tags:\n",
              "            <meta class=\"keywords\" content=\"change,deep-thoughts,thinking,world\" itemprop=\"keywords\"/>\n",
              "<a class=\"tag\" href=\"/tag/change/page/1/\">change</a>\n",
              "<a class=\"tag\" href=\"/tag/deep-thoughts/page/1/\">deep-thoughts</a>\n",
              "<a class=\"tag\" href=\"/tag/thinking/page/1/\">thinking</a>\n",
              "<a class=\"tag\" href=\"/tag/world/page/1/\">world</a>\n",
              "</div>\n",
              "</div>\n",
              "<div class=\"quote\" itemscope=\"\" itemtype=\"http://schema.org/CreativeWork\">\n",
              "<span class=\"text\" itemprop=\"text\">“It is our choices, Harry, that show what we truly are, far more than our abilities.”</span>\n",
              "<span>by <small class=\"author\" itemprop=\"author\">J.K. Rowling</small>\n",
              "<a href=\"/author/J-K-Rowling\">(about)</a>\n",
              "</span>\n",
              "<div class=\"tags\">\n",
              "            Tags:\n",
              "            <meta class=\"keywords\" content=\"abilities,choices\" itemprop=\"keywords\"/>\n",
              "<a class=\"tag\" href=\"/tag/abilities/page/1/\">abilities</a>\n",
              "<a class=\"tag\" href=\"/tag/choices/page/1/\">choices</a>\n",
              "</div>\n",
              "</div>\n",
              "<div class=\"quote\" itemscope=\"\" itemtype=\"http://schema.org/CreativeWork\">\n",
              "<span class=\"text\" itemprop=\"text\">“There are only two ways to live your life. One is as though nothing is a miracle. The other is as though everything is a miracle.”</span>\n",
              "<span>by <small class=\"author\" itemprop=\"author\">Albert Einstein</small>\n",
              "<a href=\"/author/Albert-Einstein\">(about)</a>\n",
              "</span>\n",
              "<div class=\"tags\">\n",
              "            Tags:\n",
              "            <meta class=\"keywords\" content=\"inspirational,life,live,miracle,miracles\" itemprop=\"keywords\"/>\n",
              "<a class=\"tag\" href=\"/tag/inspirational/page/1/\">inspirational</a>\n",
              "<a class=\"tag\" href=\"/tag/life/page/1/\">life</a>\n",
              "<a class=\"tag\" href=\"/tag/live/page/1/\">live</a>\n",
              "<a class=\"tag\" href=\"/tag/miracle/page/1/\">miracle</a>\n",
              "<a class=\"tag\" href=\"/tag/miracles/page/1/\">miracles</a>\n",
              "</div>\n",
              "</div>\n",
              "<div class=\"quote\" itemscope=\"\" itemtype=\"http://schema.org/CreativeWork\">\n",
              "<span class=\"text\" itemprop=\"text\">“The person, be it gentleman or lady, who has not pleasure in a good novel, must be intolerably stupid.”</span>\n",
              "<span>by <small class=\"author\" itemprop=\"author\">Jane Austen</small>\n",
              "<a href=\"/author/Jane-Austen\">(about)</a>\n",
              "</span>\n",
              "<div class=\"tags\">\n",
              "            Tags:\n",
              "            <meta class=\"keywords\" content=\"aliteracy,books,classic,humor\" itemprop=\"keywords\"/>\n",
              "<a class=\"tag\" href=\"/tag/aliteracy/page/1/\">aliteracy</a>\n",
              "<a class=\"tag\" href=\"/tag/books/page/1/\">books</a>\n",
              "<a class=\"tag\" href=\"/tag/classic/page/1/\">classic</a>\n",
              "<a class=\"tag\" href=\"/tag/humor/page/1/\">humor</a>\n",
              "</div>\n",
              "</div>\n",
              "<div class=\"quote\" itemscope=\"\" itemtype=\"http://schema.org/CreativeWork\">\n",
              "<span class=\"text\" itemprop=\"text\">“Imperfection is beauty, madness is genius and it's better to be absolutely ridiculous than absolutely boring.”</span>\n",
              "<span>by <small class=\"author\" itemprop=\"author\">Marilyn Monroe</small>\n",
              "<a href=\"/author/Marilyn-Monroe\">(about)</a>\n",
              "</span>\n",
              "<div class=\"tags\">\n",
              "            Tags:\n",
              "            <meta class=\"keywords\" content=\"be-yourself,inspirational\" itemprop=\"keywords\"/>\n",
              "<a class=\"tag\" href=\"/tag/be-yourself/page/1/\">be-yourself</a>\n",
              "<a class=\"tag\" href=\"/tag/inspirational/page/1/\">inspirational</a>\n",
              "</div>\n",
              "</div>\n",
              "<div class=\"quote\" itemscope=\"\" itemtype=\"http://schema.org/CreativeWork\">\n",
              "<span class=\"text\" itemprop=\"text\">“Try not to become a man of success. Rather become a man of value.”</span>\n",
              "<span>by <small class=\"author\" itemprop=\"author\">Albert Einstein</small>\n",
              "<a href=\"/author/Albert-Einstein\">(about)</a>\n",
              "</span>\n",
              "<div class=\"tags\">\n",
              "            Tags:\n",
              "            <meta class=\"keywords\" content=\"adulthood,success,value\" itemprop=\"keywords\"/>\n",
              "<a class=\"tag\" href=\"/tag/adulthood/page/1/\">adulthood</a>\n",
              "<a class=\"tag\" href=\"/tag/success/page/1/\">success</a>\n",
              "<a class=\"tag\" href=\"/tag/value/page/1/\">value</a>\n",
              "</div>\n",
              "</div>\n",
              "<div class=\"quote\" itemscope=\"\" itemtype=\"http://schema.org/CreativeWork\">\n",
              "<span class=\"text\" itemprop=\"text\">“It is better to be hated for what you are than to be loved for what you are not.”</span>\n",
              "<span>by <small class=\"author\" itemprop=\"author\">André Gide</small>\n",
              "<a href=\"/author/Andre-Gide\">(about)</a>\n",
              "</span>\n",
              "<div class=\"tags\">\n",
              "            Tags:\n",
              "            <meta class=\"keywords\" content=\"life,love\" itemprop=\"keywords\"/>\n",
              "<a class=\"tag\" href=\"/tag/life/page/1/\">life</a>\n",
              "<a class=\"tag\" href=\"/tag/love/page/1/\">love</a>\n",
              "</div>\n",
              "</div>\n",
              "<div class=\"quote\" itemscope=\"\" itemtype=\"http://schema.org/CreativeWork\">\n",
              "<span class=\"text\" itemprop=\"text\">“I have not failed. I've just found 10,000 ways that won't work.”</span>\n",
              "<span>by <small class=\"author\" itemprop=\"author\">Thomas A. Edison</small>\n",
              "<a href=\"/author/Thomas-A-Edison\">(about)</a>\n",
              "</span>\n",
              "<div class=\"tags\">\n",
              "            Tags:\n",
              "            <meta class=\"keywords\" content=\"edison,failure,inspirational,paraphrased\" itemprop=\"keywords\"/>\n",
              "<a class=\"tag\" href=\"/tag/edison/page/1/\">edison</a>\n",
              "<a class=\"tag\" href=\"/tag/failure/page/1/\">failure</a>\n",
              "<a class=\"tag\" href=\"/tag/inspirational/page/1/\">inspirational</a>\n",
              "<a class=\"tag\" href=\"/tag/paraphrased/page/1/\">paraphrased</a>\n",
              "</div>\n",
              "</div>\n",
              "<div class=\"quote\" itemscope=\"\" itemtype=\"http://schema.org/CreativeWork\">\n",
              "<span class=\"text\" itemprop=\"text\">“A woman is like a tea bag; you never know how strong it is until it's in hot water.”</span>\n",
              "<span>by <small class=\"author\" itemprop=\"author\">Eleanor Roosevelt</small>\n",
              "<a href=\"/author/Eleanor-Roosevelt\">(about)</a>\n",
              "</span>\n",
              "<div class=\"tags\">\n",
              "            Tags:\n",
              "            <meta class=\"keywords\" content=\"misattributed-eleanor-roosevelt\" itemprop=\"keywords\"/>\n",
              "<a class=\"tag\" href=\"/tag/misattributed-eleanor-roosevelt/page/1/\">misattributed-eleanor-roosevelt</a>\n",
              "</div>\n",
              "</div>\n",
              "<div class=\"quote\" itemscope=\"\" itemtype=\"http://schema.org/CreativeWork\">\n",
              "<span class=\"text\" itemprop=\"text\">“A day without sunshine is like, you know, night.”</span>\n",
              "<span>by <small class=\"author\" itemprop=\"author\">Steve Martin</small>\n",
              "<a href=\"/author/Steve-Martin\">(about)</a>\n",
              "</span>\n",
              "<div class=\"tags\">\n",
              "            Tags:\n",
              "            <meta class=\"keywords\" content=\"humor,obvious,simile\" itemprop=\"keywords\"/>\n",
              "<a class=\"tag\" href=\"/tag/humor/page/1/\">humor</a>\n",
              "<a class=\"tag\" href=\"/tag/obvious/page/1/\">obvious</a>\n",
              "<a class=\"tag\" href=\"/tag/simile/page/1/\">simile</a>\n",
              "</div>\n",
              "</div>\n",
              "<nav>\n",
              "<ul class=\"pager\">\n",
              "<li class=\"next\">\n",
              "<a href=\"/page/2/\">Next <span aria-hidden=\"true\">→</span></a>\n",
              "</li>\n",
              "</ul>\n",
              "</nav>\n",
              "</div>\n",
              "<div class=\"col-md-4 tags-box\">\n",
              "<h2>Top Ten tags</h2>\n",
              "<span class=\"tag-item\">\n",
              "<a class=\"tag\" href=\"/tag/love/\" style=\"font-size: 28px\">love</a>\n",
              "</span>\n",
              "<span class=\"tag-item\">\n",
              "<a class=\"tag\" href=\"/tag/inspirational/\" style=\"font-size: 26px\">inspirational</a>\n",
              "</span>\n",
              "<span class=\"tag-item\">\n",
              "<a class=\"tag\" href=\"/tag/life/\" style=\"font-size: 26px\">life</a>\n",
              "</span>\n",
              "<span class=\"tag-item\">\n",
              "<a class=\"tag\" href=\"/tag/humor/\" style=\"font-size: 24px\">humor</a>\n",
              "</span>\n",
              "<span class=\"tag-item\">\n",
              "<a class=\"tag\" href=\"/tag/books/\" style=\"font-size: 22px\">books</a>\n",
              "</span>\n",
              "<span class=\"tag-item\">\n",
              "<a class=\"tag\" href=\"/tag/reading/\" style=\"font-size: 14px\">reading</a>\n",
              "</span>\n",
              "<span class=\"tag-item\">\n",
              "<a class=\"tag\" href=\"/tag/friendship/\" style=\"font-size: 10px\">friendship</a>\n",
              "</span>\n",
              "<span class=\"tag-item\">\n",
              "<a class=\"tag\" href=\"/tag/friends/\" style=\"font-size: 8px\">friends</a>\n",
              "</span>\n",
              "<span class=\"tag-item\">\n",
              "<a class=\"tag\" href=\"/tag/truth/\" style=\"font-size: 8px\">truth</a>\n",
              "</span>\n",
              "<span class=\"tag-item\">\n",
              "<a class=\"tag\" href=\"/tag/simile/\" style=\"font-size: 6px\">simile</a>\n",
              "</span>\n",
              "</div>\n",
              "</div>\n",
              "</div>\n",
              "<footer class=\"footer\">\n",
              "<div class=\"container\">\n",
              "<p class=\"text-muted\">\n",
              "                Quotes by: <a href=\"https://www.goodreads.com/quotes\">GoodReads.com</a>\n",
              "</p>\n",
              "<p class=\"copyright\">\n",
              "                Made with <span class=\"sh-red\">❤</span> by <a href=\"https://scrapinghub.com\">Scrapinghub</a>\n",
              "</p>\n",
              "</div>\n",
              "</footer>\n",
              "</body>\n",
              "</html>"
            ]
          },
          "metadata": {},
          "execution_count": 5
        }
      ]
    },
    {
      "cell_type": "code",
      "source": [
        "# Extraer todas las citas y autores del archivo HTML\n",
        "quotes_html = html.find_all('span', class_=\"text\")\n",
        "quotes_html \n",
        "\n"
      ],
      "metadata": {
        "colab": {
          "base_uri": "https://localhost:8080/"
        },
        "id": "R5K1TlhaET1r",
        "outputId": "ee57431a-c00a-4800-f6b9-ba62ecdec4d4"
      },
      "execution_count": null,
      "outputs": [
        {
          "output_type": "execute_result",
          "data": {
            "text/plain": [
              "[<span class=\"text\" itemprop=\"text\">“The world as we have created it is a process of our thinking. It cannot be changed without changing our thinking.”</span>,\n",
              " <span class=\"text\" itemprop=\"text\">“It is our choices, Harry, that show what we truly are, far more than our abilities.”</span>,\n",
              " <span class=\"text\" itemprop=\"text\">“There are only two ways to live your life. One is as though nothing is a miracle. The other is as though everything is a miracle.”</span>,\n",
              " <span class=\"text\" itemprop=\"text\">“The person, be it gentleman or lady, who has not pleasure in a good novel, must be intolerably stupid.”</span>,\n",
              " <span class=\"text\" itemprop=\"text\">“Imperfection is beauty, madness is genius and it's better to be absolutely ridiculous than absolutely boring.”</span>,\n",
              " <span class=\"text\" itemprop=\"text\">“Try not to become a man of success. Rather become a man of value.”</span>,\n",
              " <span class=\"text\" itemprop=\"text\">“It is better to be hated for what you are than to be loved for what you are not.”</span>,\n",
              " <span class=\"text\" itemprop=\"text\">“I have not failed. I've just found 10,000 ways that won't work.”</span>,\n",
              " <span class=\"text\" itemprop=\"text\">“A woman is like a tea bag; you never know how strong it is until it's in hot water.”</span>,\n",
              " <span class=\"text\" itemprop=\"text\">“A day without sunshine is like, you know, night.”</span>]"
            ]
          },
          "metadata": {},
          "execution_count": 6
        }
      ]
    },
    {
      "cell_type": "code",
      "source": [
        "authors_html = html.find_all('small', class_=\"author\")\n",
        "authors_html"
      ],
      "metadata": {
        "colab": {
          "base_uri": "https://localhost:8080/"
        },
        "id": "45r5f6SBFG5S",
        "outputId": "f4af59f4-6ded-4fdb-f47a-ea2e173148d9"
      },
      "execution_count": null,
      "outputs": [
        {
          "output_type": "execute_result",
          "data": {
            "text/plain": [
              "[<small class=\"author\" itemprop=\"author\">Albert Einstein</small>,\n",
              " <small class=\"author\" itemprop=\"author\">J.K. Rowling</small>,\n",
              " <small class=\"author\" itemprop=\"author\">Albert Einstein</small>,\n",
              " <small class=\"author\" itemprop=\"author\">Jane Austen</small>,\n",
              " <small class=\"author\" itemprop=\"author\">Marilyn Monroe</small>,\n",
              " <small class=\"author\" itemprop=\"author\">Albert Einstein</small>,\n",
              " <small class=\"author\" itemprop=\"author\">André Gide</small>,\n",
              " <small class=\"author\" itemprop=\"author\">Thomas A. Edison</small>,\n",
              " <small class=\"author\" itemprop=\"author\">Eleanor Roosevelt</small>,\n",
              " <small class=\"author\" itemprop=\"author\">Steve Martin</small>]"
            ]
          },
          "metadata": {},
          "execution_count": 7
        }
      ]
    },
    {
      "cell_type": "code",
      "metadata": {
        "colab": {
          "base_uri": "https://localhost:8080/"
        },
        "id": "zT7WMXo_VybP",
        "outputId": "4496ab4c-f663-4945-9698-400079f6118f"
      },
      "source": [
        "# Importar módulos\n",
        "import requests\n",
        "import csv\n",
        "from bs4 import BeautifulSoup\n",
        "\n",
        "# Dirección de la página web\n",
        "url = \"http://quotes.toscrape.com/\"\n",
        "\n",
        "# Ejecutar GET-Request\n",
        "response = requests.get(url)\n",
        "\n",
        "# Analizar sintácticamente el archivo HTML de BeautifulSoup del texto fuente\n",
        "html = BeautifulSoup(response.text, 'html.parser')\n",
        "\n",
        "# Extraer todas las citas y autores del archivo HTML\n",
        "quotes_html = html.find_all('span', class_=\"text\")\n",
        "authors_html = html.find_all('small', class_=\"author\")\n",
        "\n",
        "# Crear una lista de las citas\n",
        "quotes = list()\n",
        "for quote in quotes_html:\n",
        "    quotes.append(quote.text)\n",
        "\n",
        "# Crear una lista de los autores\n",
        "authors = list()\n",
        "for author in authors_html:\n",
        "    authors.append(author.text) \n",
        "\n",
        "# Para hacer el test: combinar y mostrar las entradas de ambas listas\n",
        "for t in zip(quotes, authors):\n",
        "  print(t)\n",
        "\n",
        "# Guardar las citas y los autores en un archivo CSV en el directorio actual\n",
        "\n",
        "# Abrir el archivo con Excel / LibreOffice, etc.\n",
        "with open('./zitate.csv', 'w') as csv_file:\n",
        "    csv_writer = csv.writer(csv_file, dialect='excel')\n",
        "    csv_writer.writerows(zip(quotes, authors))"
      ],
      "execution_count": null,
      "outputs": [
        {
          "output_type": "stream",
          "name": "stdout",
          "text": [
            "('“The world as we have created it is a process of our thinking. It cannot be changed without changing our thinking.”', 'Albert Einstein')\n",
            "('“It is our choices, Harry, that show what we truly are, far more than our abilities.”', 'J.K. Rowling')\n",
            "('“There are only two ways to live your life. One is as though nothing is a miracle. The other is as though everything is a miracle.”', 'Albert Einstein')\n",
            "('“The person, be it gentleman or lady, who has not pleasure in a good novel, must be intolerably stupid.”', 'Jane Austen')\n",
            "(\"“Imperfection is beauty, madness is genius and it's better to be absolutely ridiculous than absolutely boring.”\", 'Marilyn Monroe')\n",
            "('“Try not to become a man of success. Rather become a man of value.”', 'Albert Einstein')\n",
            "('“It is better to be hated for what you are than to be loved for what you are not.”', 'André Gide')\n",
            "(\"“I have not failed. I've just found 10,000 ways that won't work.”\", 'Thomas A. Edison')\n",
            "(\"“A woman is like a tea bag; you never know how strong it is until it's in hot water.”\", 'Eleanor Roosevelt')\n",
            "('“A day without sunshine is like, you know, night.”', 'Steve Martin')\n"
          ]
        }
      ]
    },
    {
      "cell_type": "markdown",
      "metadata": {
        "id": "LFB2XLs9bCuo"
      },
      "source": [
        "### Ejemplo 3 - Web scraping de los libros mas vendidos en Amazon"
      ]
    },
    {
      "cell_type": "code",
      "metadata": {
        "id": "1aB5esxKbQVv"
      },
      "source": [
        "#importamos las librerias a utilizar\n",
        "import pandas as pd\n",
        "import numpy as np\n",
        "import matplotlib.pyplot as plt\n",
        "import seaborn as sns\n",
        "%matplotlib inline\n",
        "import re\n",
        "import time\n",
        "from datetime import datetime\n",
        "import matplotlib.dates as mdates\n",
        "import matplotlib.ticker as ticker\n",
        "from urllib.request import urlopen\n",
        "from bs4 import BeautifulSoup\n",
        "import requests"
      ],
      "execution_count": null,
      "outputs": []
    },
    {
      "cell_type": "markdown",
      "metadata": {
        "id": "ezuNgKL2dzrJ"
      },
      "source": [
        "Web Scraping de los libros más vendidos de Amazon\n",
        "\n",
        "La URL que utilizaremos es: https://www.amazon.in/gp/bestsellers/books/\n",
        "\n",
        "Como se puede ver, el argumento de la página se puede modificar para acceder a los datos de cada página. Por lo tanto, para acceder a todas las páginas, deberemos recorrer todas las páginas para obtener el conjunto de datos necesario, pero primero, debemos averiguar la cantidad de páginas del sitio web.\n",
        "\n",
        "\n",
        "Para conectarse a la URL y obtener el contenido HTML, se requieren las siguientes cosas:\n",
        "\n",
        "- Defina una función get_data que ingresará los números de página como argumento,\n",
        "- Definir un agente de usuario que ayudará a evitar la detección como un scraper,\n",
        "- Especifique la URL de request.get y pase el encabezado del agente de usuario como argumento,\n",
        "- Extraiga el contenido de request.get,\n",
        "- Hacer scraping de la página especificada y asígnela a la variable de soup,\n",
        "\n",
        "El siguiente paso importante es identificar la etiqueta principal bajo la cual residirán todos los datos que necesita. Los datos que vas a extraer son:\n",
        "\n",
        "* Nombre del libro\n",
        "* Autor\n",
        "* Clasificación\n",
        "* Clientes calificados\n",
        "* Precio\n",
        "\n",
        "\n",
        "\n",
        "La siguiente imagen muestra dónde se encuentra la etiqueta principal y, cuando se desplaza sobre ella, se resaltan todos los elementos necesarios."
      ]
    },
    {
      "cell_type": "markdown",
      "metadata": {
        "id": "eEaG-yJ9e12t"
      },
      "source": [
        "![scrap.png](data:image/png;base64,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)"
      ]
    },
    {
      "cell_type": "code",
      "metadata": {
        "id": "7p40HX11X8JR"
      },
      "source": [],
      "execution_count": null,
      "outputs": []
    },
    {
      "cell_type": "code",
      "source": [
        "headers = {\"User-Agent\":\"Mozilla/5.0 (Windows NT 10.0; Win64; x64; rv:66.0) Gecko/20100101 Firefox/66.0\", \"Accept-Encoding\":\"gzip, deflate\", \"Accept\":\"text/html,application/xhtml+xml,application/xml;q=0.9,*/*;q=0.8\", \"DNT\":\"1\",\"Connection\":\"close\", \"Upgrade-Insecure-Requests\":\"1\"}"
      ],
      "metadata": {
        "id": "yjtx7NUmcN4m"
      },
      "execution_count": null,
      "outputs": []
    },
    {
      "cell_type": "code",
      "source": [
        "headers"
      ],
      "metadata": {
        "colab": {
          "base_uri": "https://localhost:8080/"
        },
        "id": "ZBjJg0B9IQm1",
        "outputId": "a0099e27-c717-484a-b498-492bba9ccb4c"
      },
      "execution_count": null,
      "outputs": [
        {
          "output_type": "execute_result",
          "data": {
            "text/plain": [
              "{'User-Agent': 'Mozilla/5.0 (Windows NT 10.0; Win64; x64; rv:66.0) Gecko/20100101 Firefox/66.0',\n",
              " 'Accept-Encoding': 'gzip, deflate',\n",
              " 'Accept': 'text/html,application/xhtml+xml,application/xml;q=0.9,*/*;q=0.8',\n",
              " 'DNT': '1',\n",
              " 'Connection': 'close',\n",
              " 'Upgrade-Insecure-Requests': '1'}"
            ]
          },
          "metadata": {},
          "execution_count": 10
        }
      ]
    },
    {
      "cell_type": "code",
      "source": [
        "r = requests.get('https://www.amazon.in/gp/bestsellers/books/ref=zg_bs_pg_'+str(2)+'?ie=UTF8&pg='+str(2), headers=headers)#, proxies=proxies)"
      ],
      "metadata": {
        "id": "gDjE6VNlcF4Q"
      },
      "execution_count": null,
      "outputs": []
    },
    {
      "cell_type": "code",
      "source": [
        "r "
      ],
      "metadata": {
        "colab": {
          "base_uri": "https://localhost:8080/"
        },
        "id": "Y9e0VqP4I-2_",
        "outputId": "6f61c2ea-e31f-44af-83bd-1bd3f259796c"
      },
      "execution_count": null,
      "outputs": [
        {
          "output_type": "execute_result",
          "data": {
            "text/plain": [
              "<Response [200]>"
            ]
          },
          "metadata": {},
          "execution_count": 14
        }
      ]
    },
    {
      "cell_type": "code",
      "source": [
        "content = r.content\n",
        "content"
      ],
      "metadata": {
        "id": "jQM8vqWtcj3f"
      },
      "execution_count": null,
      "outputs": []
    },
    {
      "cell_type": "code",
      "source": [
        "soup = BeautifulSoup(content)"
      ],
      "metadata": {
        "id": "EaOrcpC-c1qe"
      },
      "execution_count": null,
      "outputs": []
    },
    {
      "cell_type": "code",
      "source": [
        "name = soup.find_all('div', attrs={'class':'_cDEzb_p13n-sc-css-line-clamp-1_1Fn1y'})"
      ],
      "metadata": {
        "id": "JlmF4f0OQvQo"
      },
      "execution_count": null,
      "outputs": []
    },
    {
      "cell_type": "code",
      "source": [
        "soup.find_all('div', attrs={'class':'_cDEzb_p13n-sc-css-line-clamp-1_1Fn1y'})"
      ],
      "metadata": {
        "id": "Ma6dN_B0n7mH"
      },
      "execution_count": null,
      "outputs": []
    },
    {
      "cell_type": "code",
      "source": [
        "name.text"
      ],
      "metadata": {
        "id": "koLn-zbuY4rr"
      },
      "execution_count": null,
      "outputs": []
    },
    {
      "cell_type": "code",
      "source": [
        "author = soup.find('div', attrs={'class':'a-row a-size-small'})\n",
        "author.text"
      ],
      "metadata": {
        "id": "xzawVpRHkPLK",
        "colab": {
          "base_uri": "https://localhost:8080/",
          "height": 36
        },
        "outputId": "57c844b6-408c-4552-88b8-03197604303f"
      },
      "execution_count": null,
      "outputs": [
        {
          "output_type": "execute_result",
          "data": {
            "text/plain": [
              "'Dr Joseph Murphy'"
            ],
            "application/vnd.google.colaboratory.intrinsic+json": {
              "type": "string"
            }
          },
          "metadata": {},
          "execution_count": 24
        }
      ]
    },
    {
      "cell_type": "code",
      "source": [
        "rating = soup.find_all('div', attrs={'class':'a-icon-row'})\n",
        "for i in range(len(rating)):\n",
        "  print(rating[i].text)\n"
      ],
      "metadata": {
        "id": "oJAkXPuskfI_",
        "colab": {
          "base_uri": "https://localhost:8080/"
        },
        "outputId": "0b0108bf-945d-4ee2-e992-710d3ea66e4b"
      },
      "execution_count": null,
      "outputs": [
        {
          "output_type": "stream",
          "name": "stdout",
          "text": [
            "4.5 out of 5 stars 4,601\n",
            "4.6 out of 5 stars 14,138\n",
            "4.4 out of 5 stars 18,591\n",
            "4.3 out of 5 stars 181\n",
            "4.5 out of 5 stars 1,140\n",
            "4.2 out of 5 stars 114\n",
            "4.2 out of 5 stars 381\n",
            "4.5 out of 5 stars 247,167\n",
            "4.5 out of 5 stars 1,308\n",
            "4.4 out of 5 stars 6,516\n",
            "4.7 out of 5 stars 312\n",
            "4.4 out of 5 stars 1,512\n",
            "4.5 out of 5 stars 74,351\n",
            "4.4 out of 5 stars 4\n",
            "4.6 out of 5 stars 79\n",
            "4.4 out of 5 stars 5,402\n",
            "4.5 out of 5 stars 254,150\n",
            "4.2 out of 5 stars 11,434\n",
            "4.5 out of 5 stars 133,597\n",
            "3.8 out of 5 stars 86\n",
            "4.6 out of 5 stars 10,045\n",
            "4.5 out of 5 stars 534\n",
            "4.6 out of 5 stars 10,635\n",
            "4.4 out of 5 stars 2,531\n",
            "4.2 out of 5 stars 217\n",
            "4.5 out of 5 stars 1,484\n",
            "4.3 out of 5 stars 3,459\n",
            "5.0 out of 5 stars 2\n",
            "4.2 out of 5 stars 86\n"
          ]
        }
      ]
    },
    {
      "cell_type": "code",
      "metadata": {
        "id": "q-EG2Z6UbAM5"
      },
      "source": [
        "no_pages = 2\n",
        "\n",
        "def get_data(pageNo):  \n",
        "    headers = {\"User-Agent\":\"Mozilla/5.0 (Windows NT 10.0; Win64; x64; rv:66.0) Gecko/20100101 Firefox/66.0\", \"Accept-Encoding\":\"gzip, deflate\", \"Accept\":\"text/html,application/xhtml+xml,application/xml;q=0.9,*/*;q=0.8\", \"DNT\":\"1\",\"Connection\":\"close\", \"Upgrade-Insecure-Requests\":\"1\"}\n",
        "\n",
        "    r = requests.get('https://www.amazon.in/gp/bestsellers/books/ref=zg_bs_pg_'+str(pageNo)+'?ie=UTF8&pg='+str(pageNo), headers=headers)#, proxies=proxies)\n",
        "    content = r.content\n",
        "    soup = BeautifulSoup(content)\n",
        "    #print(soup)\n",
        "\n",
        "    alls = []\n",
        "    for d in soup.find_all('div', attrs={'class':'a-cardui _cDEzb_grid-cell_1uMOS expandableGrid p13n-grid-content'}):\n",
        "        #print(d)\n",
        "        name = d.find('div', attrs={'class':'_cDEzb_p13n-sc-css-line-clamp-1_1Fn1y'})\n",
        "        #n = name.find_all('img', alt=True)\n",
        "        #print(n[0]['alt'])\n",
        "        author = d.find('div', attrs={'class':'a-row a-size-small'})\n",
        "        rating = d.find('span', attrs={'class':'a-icon-alt'})\n",
        "        users_rated = d.find('span', attrs={'class':'a-size-small'})\n",
        "        price = d.find('span', attrs={'class':'_cDEzb_p13n-sc-price_3mJ9Z'})\n",
        "\n",
        "        all1=[]\n",
        "\n",
        "        if name is not None:\n",
        "            #print(n[0]['alt'])\n",
        "            #all1.append(n[0]['alt'])\n",
        "            all1.append(name.text)\n",
        "        else:\n",
        "            all1.append(\"unknown-product\")\n",
        "\n",
        "        if author is not None:\n",
        "            #print(author.text)\n",
        "            all1.append(author.text)\n",
        "        elif author is None:\n",
        "            author = d.find('div', attrs={'class':'a-row a-size-small'})\n",
        "            if author is not None:\n",
        "                all1.append(author.text)\n",
        "            else:    \n",
        "                all1.append('0')\n",
        "\n",
        "        if rating is not None:\n",
        "            #print(rating.text)\n",
        "            all1.append(rating.text)\n",
        "        else:\n",
        "            all1.append('-1')\n",
        "\n",
        "        if users_rated is not None:\n",
        "            #print(price.text)\n",
        "            all1.append(users_rated.text)\n",
        "        else:\n",
        "            all1.append('0')     \n",
        "\n",
        "        if price is not None:\n",
        "            #print(price.text)\n",
        "            all1.append(price.text)\n",
        "        else:\n",
        "            all1.append('0')\n",
        "        alls.append(all1)    \n",
        "    return alls"
      ],
      "execution_count": null,
      "outputs": []
    },
    {
      "cell_type": "markdown",
      "metadata": {
        "id": "kzwrrBBbfE68"
      },
      "source": [
        "El siguiente codigo realizará las siguientes funciones:\n",
        "\n",
        "- Llamar a la función get_data dentro de un bucle for,\n",
        "- El ciclo for iterará sobre esta función comenzando desde 1 hasta el número de páginas + 1.\n",
        "- Dado que la salida será una lista anidada, primero debe aplanar la lista y luego pasarla al DataFrame.\n",
        "- Finalmente, guarde el marco de datos como un archivo CSV."
      ]
    },
    {
      "cell_type": "code",
      "metadata": {
        "id": "blbLtz4ZfN8T"
      },
      "source": [
        "results = []\n",
        "for i in range(1, no_pages+1):\n",
        "  results.append(get_data(i))"
      ],
      "execution_count": null,
      "outputs": []
    },
    {
      "cell_type": "code",
      "source": [
        "results"
      ],
      "metadata": {
        "id": "mvlzXXJ1kCLI",
        "colab": {
          "base_uri": "https://localhost:8080/"
        },
        "outputId": "66b42337-8c47-493b-80ec-c228619b9f4f"
      },
      "execution_count": null,
      "outputs": [
        {
          "output_type": "execute_result",
          "data": {
            "text/plain": [
              "[[['The Psychology of Money',\n",
              "   'Morgan Housel',\n",
              "   '4.6 out of 5 stars',\n",
              "   '49,820',\n",
              "   '₹248.00'],\n",
              "  ['Atomic Habits: the life-changing million-copy #1 bestseller',\n",
              "   'James Clear',\n",
              "   '4.6 out of 5 stars',\n",
              "   '78,184',\n",
              "   '₹525.00'],\n",
              "  ['BlackBook of English Vocabulary March 2023 by Nikhil Gupta',\n",
              "   'Nikhil Kr Gupta',\n",
              "   '4.4 out of 5 stars',\n",
              "   'Nikhil Kr Gupta',\n",
              "   '₹272.00'],\n",
              "  ['My First Library: Boxset of 10 Board Books for Kids',\n",
              "   'Wonder House Books',\n",
              "   '4.5 out of 5 stars',\n",
              "   '69,646',\n",
              "   '₹399.00'],\n",
              "  [\"Grandma's Bag of Stories: Collection of 20+ Illustrated short stories, traditional Indian folk tales for all ages for children of all ages by Sudha Murty [Paperback] Sudha Murty\",\n",
              "   'Sudha Murty',\n",
              "   '4.6 out of 5 stars',\n",
              "   'Sudha Murty',\n",
              "   '₹192.00'],\n",
              "  ['Ikigai: The Japanese secret to a long and happy life [Hardcover] García, Héctor and Miralles, Francesc',\n",
              "   'Francesc Miralles',\n",
              "   '4.6 out of 5 stars',\n",
              "   '47,919',\n",
              "   '₹368.00'],\n",
              "  ['The Hidden Hindu: ScienceFiction meets Indian mythology in a nail biting thriller set in 2020',\n",
              "   'Akshat Gupta',\n",
              "   '4.4 out of 5 stars',\n",
              "   '1,462',\n",
              "   '₹170.00'],\n",
              "  ['Brain Activity Book for Kids - 200+ Activities for Age 3+',\n",
              "   'Maple Press',\n",
              "   '4.5 out of 5 stars',\n",
              "   '3,450',\n",
              "   '₹100.00'],\n",
              "  ['The Power of Your Subconscious Mind',\n",
              "   'Joseph Murphy',\n",
              "   '4.5 out of 5 stars',\n",
              "   '74,351',\n",
              "   '₹115.00'],\n",
              "  ['Energize Your Mind: Learn the Art of Mastering Your Thoughts, Feelings and Emotions',\n",
              "   'Gaur Gopal Das',\n",
              "   '4.6 out of 5 stars',\n",
              "   '1,658',\n",
              "   '₹189.00'],\n",
              "  ['My First Mythology Tale (Illustrated) (Set of 5 Books) - Mahabharata, Krishna, Hanuman, Ganesha, Ramayana - Story Book for Kids - English Short Stories with Colourful Pictures - Read Aloud to Infants, Toddlers',\n",
              "   'Maple Press',\n",
              "   '4.4 out of 5 stars',\n",
              "   '6,993',\n",
              "   '₹179.00'],\n",
              "  ['Rich Dad Poor Dad: 25th Anniversary Edit',\n",
              "   'Robert T. Kiyosaki',\n",
              "   '4.6 out of 5 stars',\n",
              "   '22,197',\n",
              "   '₹405.00'],\n",
              "  ['28 Years UPSC Civil Services IAS Prelims Topic-wise Solved Papers 1 & 2 (1995 - 2022) 13th Edition',\n",
              "   'Mrunal Patel',\n",
              "   '4.3 out of 5 stars',\n",
              "   'Mrunal Patel',\n",
              "   '₹406.00'],\n",
              "  ['The Magic Of The Lost Temple**',\n",
              "   'Sudha Murty',\n",
              "   '4.6 out of 5 stars',\n",
              "   'Sudha Murty',\n",
              "   '₹185.00'],\n",
              "  ['THE 48 LAWS OF POWER',\n",
              "   'Robert Greene',\n",
              "   '4.6 out of 5 stars',\n",
              "   '16,380',\n",
              "   '₹625.00'],\n",
              "  ['Indian Polity ( English| 6th Revised Edition) | UPSC | Civil Services Exam | State Administrative Exams',\n",
              "   'M Laxmikanth',\n",
              "   '4.5 out of 5 stars',\n",
              "   '4,447',\n",
              "   '₹700.00'],\n",
              "  ['First Aid for the USMLE Step 1 2023, Thirty Third Edition',\n",
              "   'Matthew Sochat',\n",
              "   '4.2 out of 5 stars',\n",
              "   'Matthew Sochat',\n",
              "   '₹1,000.00'],\n",
              "  ['Concept of Physics by H.C Verma Part - I - Session 2022-23',\n",
              "   'H.C. Verma',\n",
              "   '4.6 out of 5 stars',\n",
              "   '12,977',\n",
              "   '₹380.00'],\n",
              "  ['As a Man Thinketh',\n",
              "   'James Allen',\n",
              "   '4.4 out of 5 stars',\n",
              "   '11,104',\n",
              "   '₹69.00'],\n",
              "  ['My First Book of Pencil Control : Practice Pattern Writing (Full Color Pages): Patterns Practice book for kids (Pattern Writing)',\n",
              "   'Wonder House Books',\n",
              "   '4.4 out of 5 stars',\n",
              "   '24,385',\n",
              "   '₹89.00'],\n",
              "  ['Arihant All In One Class 10th Social Science for CBSE Exam\\xa02024',\n",
              "   'Farah Sultan Aditya Raj ',\n",
              "   '3.1 out of 5 stars',\n",
              "   'Farah Sultan Aditya Raj ',\n",
              "   '₹314.00'],\n",
              "  ['Animals Tales From Panchtantra: Timeless Stories for Children From Ancient India',\n",
              "   'Wonder House Books',\n",
              "   '4.5 out of 5 stars',\n",
              "   '4,326',\n",
              "   '₹179.00'],\n",
              "  ['unknown-product',\n",
              "   'Unknown Binding',\n",
              "   '4.1 out of 5 stars',\n",
              "   '2,348',\n",
              "   '₹219.00'],\n",
              "  ['MTG Objective NCERT at your FINGERTIPS Biology - NCERT Notes with HD Pages, Based on NCERT Exam Archive Questions, NEET Books (Latest & Revised Edition 2023-2024) (Paperback, MTG Editorial Board)',\n",
              "   'MTG Editorial Board',\n",
              "   '4.3 out of 5 stars',\n",
              "   '93',\n",
              "   '₹639.00'],\n",
              "  ['NTA UGC NET /SET/JRF Paper 1, Teaching and Research Aptitude – 2023, Includes latest 2022 paper and 2600+ Practice Questions with Solutions | Includes NEP - 2020| 7th Edition - By Pearson',\n",
              "   'KVS Madaan',\n",
              "   '4.4 out of 5 stars',\n",
              "   'KVS Madaan',\n",
              "   '₹349.00'],\n",
              "  ['The Hidden Hindu (Hindi Translation of The Hidden Hindu)',\n",
              "   'Akshat Gupta',\n",
              "   '4.5 out of 5 stars',\n",
              "   '235',\n",
              "   '₹155.00'],\n",
              "  [\"Don't Believe Everything You Think\",\n",
              "   'Joseph Nguyen',\n",
              "   '4.6 out of 5 stars',\n",
              "   '331',\n",
              "   '₹206.00'],\n",
              "  [\"Life's Amazing Secrets: How to find Bala\",\n",
              "   'Gaur Gopal Das',\n",
              "   '4.6 out of 5 stars',\n",
              "   '21,602',\n",
              "   '₹159.00'],\n",
              "  ['Wise and Otherwise: A salute to Life [Paperback] Sudha Murty',\n",
              "   'Sudha Murty',\n",
              "   '4.6 out of 5 stars',\n",
              "   'Sudha Murty',\n",
              "   '₹174.00'],\n",
              "  ['World’s Greatest Books For Personal Growth & Wealth (Set of 4 Books): Perfect Motivational Gift Set',\n",
              "   'Dale Carnegie',\n",
              "   '4.5 out of 5 stars',\n",
              "   'Dale Carnegie',\n",
              "   '₹325.00']],\n",
              " [['The Power of Your Subconscious Mind (PREMIUM PAPERBACK, PENGUIN INDIA): A personal transformation and development book, understanding human psychology and thinking by Dr Joseph Murphy',\n",
              "   'Dr Joseph Murphy',\n",
              "   '4.5 out of 5 stars',\n",
              "   'Dr Joseph Murphy',\n",
              "   '₹98.00'],\n",
              "  ['The Almanack Of Naval Ravikant: A Guide to Wealth and Happiness',\n",
              "   'Eric Jorgenson',\n",
              "   '4.6 out of 5 stars',\n",
              "   '14,138',\n",
              "   '₹203.00'],\n",
              "  ['The Complete Novels of Sherlock Holmes',\n",
              "   'Arthur Conan Doyle',\n",
              "   '4.4 out of 5 stars',\n",
              "   '18,591',\n",
              "   '₹160.00'],\n",
              "  ['Accounting Principles, Industrial Relations & Labour Laws for UPSC EPFO (EO/ AO/ APFC) Exam',\n",
              "   'Aman Sharma',\n",
              "   '4.3 out of 5 stars',\n",
              "   'Aman Sharma',\n",
              "   '₹177.00'],\n",
              "  ['1800+ Reward Stickers - Ideal For Teachers And Parents : Sticker Book With Over 1800 Stickers To Boost The Morale of Kids',\n",
              "   'Wonder House Books',\n",
              "   '4.5 out of 5 stars',\n",
              "   '1,140',\n",
              "   '₹149.00'],\n",
              "  ['NCERT Objective Studies Kit for UPSC, State PSCs [Multiple Choice Questions (MCQ Quiz) with Answers] (Set of 5 Books in Hindi)',\n",
              "   'IAS (AIR-49) Dr. Ranjit Kumar Singh',\n",
              "   '4.2 out of 5 stars',\n",
              "   'IAS (AIR-49) Dr. Ranjit Kumar Singh',\n",
              "   '₹563.75'],\n",
              "  ['5000 + Daily Use English Sentences | Kanchan Keshari',\n",
              "   'Kanchan Keshari',\n",
              "   '4.2 out of 5 stars',\n",
              "   'Kanchan Keshari',\n",
              "   '₹285.00'],\n",
              "  [\"Kunex It Ends With Us : ''Sometimes The One Who Loves You Is The One Who Hurts You The Most''\",\n",
              "   'Colleen Hoover',\n",
              "   '4.5 out of 5 stars',\n",
              "   '247,167',\n",
              "   '₹139.00'],\n",
              "  ['Moral Story Books for Kids (Set of 10 Books) (Illustrated) - English Short Stories with Colourful Pictures - Bedtime Children Story Book - 3 Years to 6 Years Old Children - Read Aloud to Infants, Toddlers',\n",
              "   'Maple Press',\n",
              "   '4.5 out of 5 stars',\n",
              "   '1,308',\n",
              "   '₹245.00'],\n",
              "  ['Do It Today: Overcome procrastination, improve productivity and achieve more meaningful things [Paperback] Foroux, Darius',\n",
              "   'Darius Foroux',\n",
              "   '4.4 out of 5 stars',\n",
              "   '6,517',\n",
              "   '₹127.00'],\n",
              "  ['IAS (AIR-49) Dr. Ranjit Kumar Singh',\n",
              "   'IAS (AIR-49) Dr. Ranjit Kumar Singh',\n",
              "   '-1',\n",
              "   'IAS (AIR-49) Dr. Ranjit Kumar Singh',\n",
              "   '₹300.00'],\n",
              "  ['Basics of Bhagavad Gita: A thematic study of the Bhagavad Gita',\n",
              "   'His Divine Grace A. C. Bhaktivedanta Swami Prabhupada',\n",
              "   '4.7 out of 5 stars',\n",
              "   'His Divine Grace A. C. Bhaktivedanta Swami Prabhupada',\n",
              "   '₹134.99'],\n",
              "  ['Jumbo Colouring Book - Activity Colouring Book for 3 to 5 years old kids - Gift to children for painting, drawing and colouring with reference guide',\n",
              "   'Maple Press',\n",
              "   '4.4 out of 5 stars',\n",
              "   'Maple Press',\n",
              "   '₹100.00'],\n",
              "  ['The Power of Your Subconscious Mind',\n",
              "   'Joseph Murphy',\n",
              "   '4.5 out of 5 stars',\n",
              "   '74,351',\n",
              "   '₹115.00'],\n",
              "  ['Arihant All In One Class 10th English Language and Literature for CBSE Exam\\xa02024',\n",
              "   'Vaishali Jaiwal Srishti Agarwal ',\n",
              "   '4.4 out of 5 stars',\n",
              "   'Vaishali Jaiwal Srishti Agarwal ',\n",
              "   '₹374.00'],\n",
              "  ['Oswaal CBSE Class 10 Social Science Question Bank (2024 Exam)',\n",
              "   'Oswaal Editorial Board',\n",
              "   '4.6 out of 5 stars',\n",
              "   '79',\n",
              "   '₹430.00'],\n",
              "  ['101 Brain Booster Activity Book: Fun Activity Book For Children',\n",
              "   'Wonder House Books',\n",
              "   '4.4 out of 5 stars',\n",
              "   '5,402',\n",
              "   '₹149.00'],\n",
              "  ['The Silent Patient',\n",
              "   'Alex Michaelides',\n",
              "   '4.5 out of 5 stars',\n",
              "   '254,149',\n",
              "   '₹219.00'],\n",
              "  ['Think Straight: Change your thoughts, Change your life [Paperback] Foroux, Darius',\n",
              "   'Darius Foroux',\n",
              "   '4.2 out of 5 stars',\n",
              "   '11,434',\n",
              "   '₹109.00'],\n",
              "  ['The Subtle Art of Not Giving a F*ck: A Counterintuitive Approach to Living a Good Life',\n",
              "   'Mark Manson',\n",
              "   '4.5 out of 5 stars',\n",
              "   '133,596',\n",
              "   '₹247.00'],\n",
              "  ['It Starts with us and Free It ends with us',\n",
              "   'Delhi wale',\n",
              "   '3.8 out of 5 stars',\n",
              "   'Delhi wale',\n",
              "   '₹331.00'],\n",
              "  ['Concept of Physics by H.C Verma Part - II - Session 2022-23',\n",
              "   'H.C. Verma',\n",
              "   '4.6 out of 5 stars',\n",
              "   '10,045',\n",
              "   '₹375.00'],\n",
              "  ['Hidden Hindu Book, The (2)',\n",
              "   'Akshat Gupta',\n",
              "   '4.5 out of 5 stars',\n",
              "   '534',\n",
              "   '₹190.00'],\n",
              "  ['THE COURAGE TO BE DISLIKED',\n",
              "   'ICHIRO KISHIMI',\n",
              "   '4.6 out of 5 stars',\n",
              "   'ICHIRO KISHIMI',\n",
              "   '₹342.00'],\n",
              "  ['My First ABC Sticker Book: Exciting Sticker Book With 100 Stickers',\n",
              "   'Wonder House Books',\n",
              "   '4.4 out of 5 stars',\n",
              "   '2,531',\n",
              "   '₹149.00'],\n",
              "  ['Phonic Reader (Illustrated) (Set of 6 Books) - Story Book for Kids - Bedtime Stories - 2 Years to 6 Years Old - Read Aloud to Infants, Toddlers',\n",
              "   'Maple Press',\n",
              "   '4.2 out of 5 stars',\n",
              "   '217',\n",
              "   '₹168.00'],\n",
              "  ['R D Sharma Mathematics Class 9 with MCQ in Mathematics - CBSE Examination 2023-2024',\n",
              "   'R.D. Sharma',\n",
              "   '4.5 out of 5 stars',\n",
              "   '1,484',\n",
              "   '₹538.00'],\n",
              "  ['You Can', 'George Matthew Adams', '4.3 out of 5 stars', '3,459', '₹99.00'],\n",
              "  ['Arihant All In One Class 12th English Core for CBSE Exam\\xa02024',\n",
              "   'Vaishali Jaiswal Srishti Agarwal ',\n",
              "   '5.0 out of 5 stars',\n",
              "   'Vaishali Jaiswal Srishti Agarwal ',\n",
              "   '₹421.00'],\n",
              "  ['SSC Maths 6800 TCS MCQ chapter wise 4th edition english medium I detailed explanation and short tricks',\n",
              "   'Pinnacle Publications',\n",
              "   '4.2 out of 5 stars',\n",
              "   'Pinnacle Publications',\n",
              "   '₹499.00']]]"
            ]
          },
          "metadata": {},
          "execution_count": 148
        }
      ]
    },
    {
      "cell_type": "code",
      "source": [
        "flatten = lambda l: [item for sublist in l for item in sublist]\n",
        "df = pd.DataFrame(flatten(results),columns=['Book Name','Author','Rating','Customers_Rated', 'Price'])\n",
        "df.to_csv('amazon_products.csv', index=False, encoding='utf-8')"
      ],
      "metadata": {
        "id": "drPa1wDXULwn"
      },
      "execution_count": null,
      "outputs": []
    },
    {
      "cell_type": "code",
      "source": [
        "df"
      ],
      "metadata": {
        "id": "UvfLl7SMXApR",
        "colab": {
          "base_uri": "https://localhost:8080/",
          "height": 49
        },
        "outputId": "59ead2b7-26fb-471f-c5f2-16bd71615581"
      },
      "execution_count": null,
      "outputs": [
        {
          "output_type": "execute_result",
          "data": {
            "text/plain": [
              "Empty DataFrame\n",
              "Columns: [Book Name, Author, Rating, Customers_Rated, Price]\n",
              "Index: []"
            ],
            "text/html": [
              "\n",
              "  <div id=\"df-ba88caad-ccd0-44d2-aed5-a4da8b34aa2a\">\n",
              "    <div class=\"colab-df-container\">\n",
              "      <div>\n",
              "<style scoped>\n",
              "    .dataframe tbody tr th:only-of-type {\n",
              "        vertical-align: middle;\n",
              "    }\n",
              "\n",
              "    .dataframe tbody tr th {\n",
              "        vertical-align: top;\n",
              "    }\n",
              "\n",
              "    .dataframe thead th {\n",
              "        text-align: right;\n",
              "    }\n",
              "</style>\n",
              "<table border=\"1\" class=\"dataframe\">\n",
              "  <thead>\n",
              "    <tr style=\"text-align: right;\">\n",
              "      <th></th>\n",
              "      <th>Book Name</th>\n",
              "      <th>Author</th>\n",
              "      <th>Rating</th>\n",
              "      <th>Customers_Rated</th>\n",
              "      <th>Price</th>\n",
              "    </tr>\n",
              "  </thead>\n",
              "  <tbody>\n",
              "  </tbody>\n",
              "</table>\n",
              "</div>\n",
              "      <button class=\"colab-df-convert\" onclick=\"convertToInteractive('df-ba88caad-ccd0-44d2-aed5-a4da8b34aa2a')\"\n",
              "              title=\"Convert this dataframe to an interactive table.\"\n",
              "              style=\"display:none;\">\n",
              "        \n",
              "  <svg xmlns=\"http://www.w3.org/2000/svg\" height=\"24px\"viewBox=\"0 0 24 24\"\n",
              "       width=\"24px\">\n",
              "    <path d=\"M0 0h24v24H0V0z\" fill=\"none\"/>\n",
              "    <path d=\"M18.56 5.44l.94 2.06.94-2.06 2.06-.94-2.06-.94-.94-2.06-.94 2.06-2.06.94zm-11 1L8.5 8.5l.94-2.06 2.06-.94-2.06-.94L8.5 2.5l-.94 2.06-2.06.94zm10 10l.94 2.06.94-2.06 2.06-.94-2.06-.94-.94-2.06-.94 2.06-2.06.94z\"/><path d=\"M17.41 7.96l-1.37-1.37c-.4-.4-.92-.59-1.43-.59-.52 0-1.04.2-1.43.59L10.3 9.45l-7.72 7.72c-.78.78-.78 2.05 0 2.83L4 21.41c.39.39.9.59 1.41.59.51 0 1.02-.2 1.41-.59l7.78-7.78 2.81-2.81c.8-.78.8-2.07 0-2.86zM5.41 20L4 18.59l7.72-7.72 1.47 1.35L5.41 20z\"/>\n",
              "  </svg>\n",
              "      </button>\n",
              "      \n",
              "  <style>\n",
              "    .colab-df-container {\n",
              "      display:flex;\n",
              "      flex-wrap:wrap;\n",
              "      gap: 12px;\n",
              "    }\n",
              "\n",
              "    .colab-df-convert {\n",
              "      background-color: #E8F0FE;\n",
              "      border: none;\n",
              "      border-radius: 50%;\n",
              "      cursor: pointer;\n",
              "      display: none;\n",
              "      fill: #1967D2;\n",
              "      height: 32px;\n",
              "      padding: 0 0 0 0;\n",
              "      width: 32px;\n",
              "    }\n",
              "\n",
              "    .colab-df-convert:hover {\n",
              "      background-color: #E2EBFA;\n",
              "      box-shadow: 0px 1px 2px rgba(60, 64, 67, 0.3), 0px 1px 3px 1px rgba(60, 64, 67, 0.15);\n",
              "      fill: #174EA6;\n",
              "    }\n",
              "\n",
              "    [theme=dark] .colab-df-convert {\n",
              "      background-color: #3B4455;\n",
              "      fill: #D2E3FC;\n",
              "    }\n",
              "\n",
              "    [theme=dark] .colab-df-convert:hover {\n",
              "      background-color: #434B5C;\n",
              "      box-shadow: 0px 1px 3px 1px rgba(0, 0, 0, 0.15);\n",
              "      filter: drop-shadow(0px 1px 2px rgba(0, 0, 0, 0.3));\n",
              "      fill: #FFFFFF;\n",
              "    }\n",
              "  </style>\n",
              "\n",
              "      <script>\n",
              "        const buttonEl =\n",
              "          document.querySelector('#df-ba88caad-ccd0-44d2-aed5-a4da8b34aa2a button.colab-df-convert');\n",
              "        buttonEl.style.display =\n",
              "          google.colab.kernel.accessAllowed ? 'block' : 'none';\n",
              "\n",
              "        async function convertToInteractive(key) {\n",
              "          const element = document.querySelector('#df-ba88caad-ccd0-44d2-aed5-a4da8b34aa2a');\n",
              "          const dataTable =\n",
              "            await google.colab.kernel.invokeFunction('convertToInteractive',\n",
              "                                                     [key], {});\n",
              "          if (!dataTable) return;\n",
              "\n",
              "          const docLinkHtml = 'Like what you see? Visit the ' +\n",
              "            '<a target=\"_blank\" href=https://colab.research.google.com/notebooks/data_table.ipynb>data table notebook</a>'\n",
              "            + ' to learn more about interactive tables.';\n",
              "          element.innerHTML = '';\n",
              "          dataTable['output_type'] = 'display_data';\n",
              "          await google.colab.output.renderOutput(dataTable, element);\n",
              "          const docLink = document.createElement('div');\n",
              "          docLink.innerHTML = docLinkHtml;\n",
              "          element.appendChild(docLink);\n",
              "        }\n",
              "      </script>\n",
              "    </div>\n",
              "  </div>\n",
              "  "
            ]
          },
          "metadata": {},
          "execution_count": 145
        }
      ]
    },
    {
      "cell_type": "markdown",
      "metadata": {
        "id": "fVxJdJLgfUZF"
      },
      "source": [
        "**Leyendo archivo CSV**\n",
        "Ahora carguemos el archivo CSV que creamos y guardamos en la celda anterior. \n",
        "\n",
        "Nuevamente, este es un paso opcional; incluso podrías usar el dataframe df directamente e ignorar el siguiente paso."
      ]
    },
    {
      "cell_type": "code",
      "metadata": {
        "id": "BZ5l8ibefjio"
      },
      "source": [
        "df = pd.read_csv(\"amazon_products.csv\")"
      ],
      "execution_count": null,
      "outputs": []
    },
    {
      "cell_type": "code",
      "metadata": {
        "id": "ZyIJMwNJfkwY",
        "colab": {
          "base_uri": "https://localhost:8080/"
        },
        "outputId": "b289587f-abb1-49fd-ca7b-f79abc67cc3a"
      },
      "source": [
        "df.shape"
      ],
      "execution_count": null,
      "outputs": [
        {
          "output_type": "execute_result",
          "data": {
            "text/plain": [
              "(60, 5)"
            ]
          },
          "metadata": {},
          "execution_count": 80
        }
      ]
    },
    {
      "cell_type": "code",
      "metadata": {
        "id": "k0zTTX6Gfmht",
        "colab": {
          "base_uri": "https://localhost:8080/",
          "height": 337
        },
        "outputId": "9ec75cf9-8e96-4d22-fa6c-026b287c6a17"
      },
      "source": [
        "df.head()"
      ],
      "execution_count": null,
      "outputs": [
        {
          "output_type": "execute_result",
          "data": {
            "text/plain": [
              "                                           Book Name              Author  \\\n",
              "0                            The Psychology of Money       Morgan Housel   \n",
              "1  Atomic Habits: the life-changing million-copy ...         James Clear   \n",
              "2  BlackBook of English Vocabulary March 2023 by ...     Nikhil Kr Gupta   \n",
              "3  My First Library: Boxset of 10 Board Books for...  Wonder House Books   \n",
              "4  Grandma's Bag of Stories: Collection of 20+ Il...         Sudha Murty   \n",
              "\n",
              "               Rating  Customers_Rated    Price  \n",
              "0  4.6 out of 5 stars           49,819  ₹248.00  \n",
              "1  4.6 out of 5 stars           78,183  ₹525.00  \n",
              "2  4.4 out of 5 stars  Nikhil Kr Gupta  ₹272.00  \n",
              "3  4.5 out of 5 stars           69,646  ₹399.00  \n",
              "4  4.6 out of 5 stars      Sudha Murty  ₹185.00  "
            ],
            "text/html": [
              "\n",
              "  <div id=\"df-4a478f42-85da-48cf-a525-7c80ea7c5248\">\n",
              "    <div class=\"colab-df-container\">\n",
              "      <div>\n",
              "<style scoped>\n",
              "    .dataframe tbody tr th:only-of-type {\n",
              "        vertical-align: middle;\n",
              "    }\n",
              "\n",
              "    .dataframe tbody tr th {\n",
              "        vertical-align: top;\n",
              "    }\n",
              "\n",
              "    .dataframe thead th {\n",
              "        text-align: right;\n",
              "    }\n",
              "</style>\n",
              "<table border=\"1\" class=\"dataframe\">\n",
              "  <thead>\n",
              "    <tr style=\"text-align: right;\">\n",
              "      <th></th>\n",
              "      <th>Book Name</th>\n",
              "      <th>Author</th>\n",
              "      <th>Rating</th>\n",
              "      <th>Customers_Rated</th>\n",
              "      <th>Price</th>\n",
              "    </tr>\n",
              "  </thead>\n",
              "  <tbody>\n",
              "    <tr>\n",
              "      <th>0</th>\n",
              "      <td>The Psychology of Money</td>\n",
              "      <td>Morgan Housel</td>\n",
              "      <td>4.6 out of 5 stars</td>\n",
              "      <td>49,819</td>\n",
              "      <td>₹248.00</td>\n",
              "    </tr>\n",
              "    <tr>\n",
              "      <th>1</th>\n",
              "      <td>Atomic Habits: the life-changing million-copy ...</td>\n",
              "      <td>James Clear</td>\n",
              "      <td>4.6 out of 5 stars</td>\n",
              "      <td>78,183</td>\n",
              "      <td>₹525.00</td>\n",
              "    </tr>\n",
              "    <tr>\n",
              "      <th>2</th>\n",
              "      <td>BlackBook of English Vocabulary March 2023 by ...</td>\n",
              "      <td>Nikhil Kr Gupta</td>\n",
              "      <td>4.4 out of 5 stars</td>\n",
              "      <td>Nikhil Kr Gupta</td>\n",
              "      <td>₹272.00</td>\n",
              "    </tr>\n",
              "    <tr>\n",
              "      <th>3</th>\n",
              "      <td>My First Library: Boxset of 10 Board Books for...</td>\n",
              "      <td>Wonder House Books</td>\n",
              "      <td>4.5 out of 5 stars</td>\n",
              "      <td>69,646</td>\n",
              "      <td>₹399.00</td>\n",
              "    </tr>\n",
              "    <tr>\n",
              "      <th>4</th>\n",
              "      <td>Grandma's Bag of Stories: Collection of 20+ Il...</td>\n",
              "      <td>Sudha Murty</td>\n",
              "      <td>4.6 out of 5 stars</td>\n",
              "      <td>Sudha Murty</td>\n",
              "      <td>₹185.00</td>\n",
              "    </tr>\n",
              "  </tbody>\n",
              "</table>\n",
              "</div>\n",
              "      <button class=\"colab-df-convert\" onclick=\"convertToInteractive('df-4a478f42-85da-48cf-a525-7c80ea7c5248')\"\n",
              "              title=\"Convert this dataframe to an interactive table.\"\n",
              "              style=\"display:none;\">\n",
              "        \n",
              "  <svg xmlns=\"http://www.w3.org/2000/svg\" height=\"24px\"viewBox=\"0 0 24 24\"\n",
              "       width=\"24px\">\n",
              "    <path d=\"M0 0h24v24H0V0z\" fill=\"none\"/>\n",
              "    <path d=\"M18.56 5.44l.94 2.06.94-2.06 2.06-.94-2.06-.94-.94-2.06-.94 2.06-2.06.94zm-11 1L8.5 8.5l.94-2.06 2.06-.94-2.06-.94L8.5 2.5l-.94 2.06-2.06.94zm10 10l.94 2.06.94-2.06 2.06-.94-2.06-.94-.94-2.06-.94 2.06-2.06.94z\"/><path d=\"M17.41 7.96l-1.37-1.37c-.4-.4-.92-.59-1.43-.59-.52 0-1.04.2-1.43.59L10.3 9.45l-7.72 7.72c-.78.78-.78 2.05 0 2.83L4 21.41c.39.39.9.59 1.41.59.51 0 1.02-.2 1.41-.59l7.78-7.78 2.81-2.81c.8-.78.8-2.07 0-2.86zM5.41 20L4 18.59l7.72-7.72 1.47 1.35L5.41 20z\"/>\n",
              "  </svg>\n",
              "      </button>\n",
              "      \n",
              "  <style>\n",
              "    .colab-df-container {\n",
              "      display:flex;\n",
              "      flex-wrap:wrap;\n",
              "      gap: 12px;\n",
              "    }\n",
              "\n",
              "    .colab-df-convert {\n",
              "      background-color: #E8F0FE;\n",
              "      border: none;\n",
              "      border-radius: 50%;\n",
              "      cursor: pointer;\n",
              "      display: none;\n",
              "      fill: #1967D2;\n",
              "      height: 32px;\n",
              "      padding: 0 0 0 0;\n",
              "      width: 32px;\n",
              "    }\n",
              "\n",
              "    .colab-df-convert:hover {\n",
              "      background-color: #E2EBFA;\n",
              "      box-shadow: 0px 1px 2px rgba(60, 64, 67, 0.3), 0px 1px 3px 1px rgba(60, 64, 67, 0.15);\n",
              "      fill: #174EA6;\n",
              "    }\n",
              "\n",
              "    [theme=dark] .colab-df-convert {\n",
              "      background-color: #3B4455;\n",
              "      fill: #D2E3FC;\n",
              "    }\n",
              "\n",
              "    [theme=dark] .colab-df-convert:hover {\n",
              "      background-color: #434B5C;\n",
              "      box-shadow: 0px 1px 3px 1px rgba(0, 0, 0, 0.15);\n",
              "      filter: drop-shadow(0px 1px 2px rgba(0, 0, 0, 0.3));\n",
              "      fill: #FFFFFF;\n",
              "    }\n",
              "  </style>\n",
              "\n",
              "      <script>\n",
              "        const buttonEl =\n",
              "          document.querySelector('#df-4a478f42-85da-48cf-a525-7c80ea7c5248 button.colab-df-convert');\n",
              "        buttonEl.style.display =\n",
              "          google.colab.kernel.accessAllowed ? 'block' : 'none';\n",
              "\n",
              "        async function convertToInteractive(key) {\n",
              "          const element = document.querySelector('#df-4a478f42-85da-48cf-a525-7c80ea7c5248');\n",
              "          const dataTable =\n",
              "            await google.colab.kernel.invokeFunction('convertToInteractive',\n",
              "                                                     [key], {});\n",
              "          if (!dataTable) return;\n",
              "\n",
              "          const docLinkHtml = 'Like what you see? Visit the ' +\n",
              "            '<a target=\"_blank\" href=https://colab.research.google.com/notebooks/data_table.ipynb>data table notebook</a>'\n",
              "            + ' to learn more about interactive tables.';\n",
              "          element.innerHTML = '';\n",
              "          dataTable['output_type'] = 'display_data';\n",
              "          await google.colab.output.renderOutput(dataTable, element);\n",
              "          const docLink = document.createElement('div');\n",
              "          docLink.innerHTML = docLinkHtml;\n",
              "          element.appendChild(docLink);\n",
              "        }\n",
              "      </script>\n",
              "    </div>\n",
              "  </div>\n",
              "  "
            ]
          },
          "metadata": {},
          "execution_count": 81
        }
      ]
    },
    {
      "cell_type": "markdown",
      "metadata": {
        "id": "8AxmsFwwfwAq"
      },
      "source": [
        "*Vamos a hacer algunos preprocesos en las columnas de calificaciones, clasificación de clientes y precio.*\n",
        "\n",
        "- Como sabemos que las calificaciones son de 5, puede conservar solo la calificación y eliminar la parte adicional.\n",
        "- En la columna de clasificación de clientes, eliminemos la coma.\n",
        "- En la columna de precios, elimine el símbolo de rupias, la coma y divídalo por puntos.\n",
        "- Finalmente, convierta las tres columnas en números enteros o flotantes."
      ]
    },
    {
      "cell_type": "code",
      "metadata": {
        "id": "Y-cV6i8Hf-xk"
      },
      "source": [
        "df['Rating'] = df['Rating'].apply(lambda x: x.split()[0])"
      ],
      "execution_count": null,
      "outputs": []
    },
    {
      "cell_type": "code",
      "metadata": {
        "id": "d-u0F4VJgAT3"
      },
      "source": [
        "df['Rating'] = pd.to_numeric(df['Rating'])"
      ],
      "execution_count": null,
      "outputs": []
    },
    {
      "cell_type": "code",
      "source": [
        "df['Rating'].head(5)"
      ],
      "metadata": {
        "colab": {
          "base_uri": "https://localhost:8080/"
        },
        "id": "QGPihJUw3iM9",
        "outputId": "2b85c2b5-b33e-4132-e759-11a4836f7c1c"
      },
      "execution_count": null,
      "outputs": [
        {
          "output_type": "execute_result",
          "data": {
            "text/plain": [
              "0    4.6\n",
              "1    4.6\n",
              "2    4.4\n",
              "3    4.5\n",
              "4    4.6\n",
              "Name: Rating, dtype: float64"
            ]
          },
          "metadata": {},
          "execution_count": 84
        }
      ]
    },
    {
      "cell_type": "code",
      "metadata": {
        "id": "lI1srS3cgBkF"
      },
      "source": [
        "df[\"Price\"] = df[\"Price\"].str.replace('₹', '')"
      ],
      "execution_count": null,
      "outputs": []
    },
    {
      "cell_type": "code",
      "metadata": {
        "id": "cRjiaqiQgC43"
      },
      "source": [
        "df[\"Price\"] = df[\"Price\"].str.replace('₹', '')"
      ],
      "execution_count": null,
      "outputs": []
    },
    {
      "cell_type": "code",
      "source": [
        "df['Price'].head()"
      ],
      "metadata": {
        "colab": {
          "base_uri": "https://localhost:8080/"
        },
        "id": "3QW2UgkA3x24",
        "outputId": "cdeba9f2-621b-4f62-a10e-d10fa0494ef2"
      },
      "execution_count": null,
      "outputs": [
        {
          "output_type": "execute_result",
          "data": {
            "text/plain": [
              "0    248.00\n",
              "1    525.00\n",
              "2    272.00\n",
              "3    399.00\n",
              "4    185.00\n",
              "Name: Price, dtype: object"
            ]
          },
          "metadata": {},
          "execution_count": 87
        }
      ]
    },
    {
      "cell_type": "code",
      "metadata": {
        "id": "H1eO3-9HgENf"
      },
      "source": [
        "df['Price'] = df['Price'].apply(lambda x: x.split(',')[0])"
      ],
      "execution_count": null,
      "outputs": []
    },
    {
      "cell_type": "code",
      "metadata": {
        "id": "pttbWGBCgFdu"
      },
      "source": [
        "df['Price'] = df['Price'].astype(float)"
      ],
      "execution_count": null,
      "outputs": []
    },
    {
      "cell_type": "code",
      "metadata": {
        "id": "6zXQ4l40gHBz"
      },
      "source": [
        "df[\"Customers_Rated\"] = df[\"Customers_Rated\"].str.replace(',', '')"
      ],
      "execution_count": null,
      "outputs": []
    },
    {
      "cell_type": "code",
      "metadata": {
        "id": "Z-AY73mFgIW5"
      },
      "source": [
        "df['Customers_Rated'] = pd.to_numeric(df['Customers_Rated'], errors='ignore')"
      ],
      "execution_count": null,
      "outputs": []
    },
    {
      "cell_type": "code",
      "metadata": {
        "id": "ug9FgsmGgJXl",
        "colab": {
          "base_uri": "https://localhost:8080/",
          "height": 319
        },
        "outputId": "d8e3fbd3-4fe5-4962-cf02-dc2366c53ae1"
      },
      "source": [
        "df.head()"
      ],
      "execution_count": null,
      "outputs": [
        {
          "output_type": "execute_result",
          "data": {
            "text/plain": [
              "                                           Book Name              Author  \\\n",
              "0                            The Psychology of Money       Morgan Housel   \n",
              "1  Atomic Habits: the life-changing million-copy ...         James Clear   \n",
              "2  BlackBook of English Vocabulary March 2023 by ...     Nikhil Kr Gupta   \n",
              "3  My First Library: Boxset of 10 Board Books for...  Wonder House Books   \n",
              "4  Grandma's Bag of Stories: Collection of 20+ Il...         Sudha Murty   \n",
              "\n",
              "   Rating  Customers_Rated  Price  \n",
              "0     4.6            49819  248.0  \n",
              "1     4.6            78183  525.0  \n",
              "2     4.4  Nikhil Kr Gupta  272.0  \n",
              "3     4.5            69646  399.0  \n",
              "4     4.6      Sudha Murty  185.0  "
            ],
            "text/html": [
              "\n",
              "  <div id=\"df-1b0d1d66-601b-4711-be9d-285c88fe6d65\">\n",
              "    <div class=\"colab-df-container\">\n",
              "      <div>\n",
              "<style scoped>\n",
              "    .dataframe tbody tr th:only-of-type {\n",
              "        vertical-align: middle;\n",
              "    }\n",
              "\n",
              "    .dataframe tbody tr th {\n",
              "        vertical-align: top;\n",
              "    }\n",
              "\n",
              "    .dataframe thead th {\n",
              "        text-align: right;\n",
              "    }\n",
              "</style>\n",
              "<table border=\"1\" class=\"dataframe\">\n",
              "  <thead>\n",
              "    <tr style=\"text-align: right;\">\n",
              "      <th></th>\n",
              "      <th>Book Name</th>\n",
              "      <th>Author</th>\n",
              "      <th>Rating</th>\n",
              "      <th>Customers_Rated</th>\n",
              "      <th>Price</th>\n",
              "    </tr>\n",
              "  </thead>\n",
              "  <tbody>\n",
              "    <tr>\n",
              "      <th>0</th>\n",
              "      <td>The Psychology of Money</td>\n",
              "      <td>Morgan Housel</td>\n",
              "      <td>4.6</td>\n",
              "      <td>49819</td>\n",
              "      <td>248.0</td>\n",
              "    </tr>\n",
              "    <tr>\n",
              "      <th>1</th>\n",
              "      <td>Atomic Habits: the life-changing million-copy ...</td>\n",
              "      <td>James Clear</td>\n",
              "      <td>4.6</td>\n",
              "      <td>78183</td>\n",
              "      <td>525.0</td>\n",
              "    </tr>\n",
              "    <tr>\n",
              "      <th>2</th>\n",
              "      <td>BlackBook of English Vocabulary March 2023 by ...</td>\n",
              "      <td>Nikhil Kr Gupta</td>\n",
              "      <td>4.4</td>\n",
              "      <td>Nikhil Kr Gupta</td>\n",
              "      <td>272.0</td>\n",
              "    </tr>\n",
              "    <tr>\n",
              "      <th>3</th>\n",
              "      <td>My First Library: Boxset of 10 Board Books for...</td>\n",
              "      <td>Wonder House Books</td>\n",
              "      <td>4.5</td>\n",
              "      <td>69646</td>\n",
              "      <td>399.0</td>\n",
              "    </tr>\n",
              "    <tr>\n",
              "      <th>4</th>\n",
              "      <td>Grandma's Bag of Stories: Collection of 20+ Il...</td>\n",
              "      <td>Sudha Murty</td>\n",
              "      <td>4.6</td>\n",
              "      <td>Sudha Murty</td>\n",
              "      <td>185.0</td>\n",
              "    </tr>\n",
              "  </tbody>\n",
              "</table>\n",
              "</div>\n",
              "      <button class=\"colab-df-convert\" onclick=\"convertToInteractive('df-1b0d1d66-601b-4711-be9d-285c88fe6d65')\"\n",
              "              title=\"Convert this dataframe to an interactive table.\"\n",
              "              style=\"display:none;\">\n",
              "        \n",
              "  <svg xmlns=\"http://www.w3.org/2000/svg\" height=\"24px\"viewBox=\"0 0 24 24\"\n",
              "       width=\"24px\">\n",
              "    <path d=\"M0 0h24v24H0V0z\" fill=\"none\"/>\n",
              "    <path d=\"M18.56 5.44l.94 2.06.94-2.06 2.06-.94-2.06-.94-.94-2.06-.94 2.06-2.06.94zm-11 1L8.5 8.5l.94-2.06 2.06-.94-2.06-.94L8.5 2.5l-.94 2.06-2.06.94zm10 10l.94 2.06.94-2.06 2.06-.94-2.06-.94-.94-2.06-.94 2.06-2.06.94z\"/><path d=\"M17.41 7.96l-1.37-1.37c-.4-.4-.92-.59-1.43-.59-.52 0-1.04.2-1.43.59L10.3 9.45l-7.72 7.72c-.78.78-.78 2.05 0 2.83L4 21.41c.39.39.9.59 1.41.59.51 0 1.02-.2 1.41-.59l7.78-7.78 2.81-2.81c.8-.78.8-2.07 0-2.86zM5.41 20L4 18.59l7.72-7.72 1.47 1.35L5.41 20z\"/>\n",
              "  </svg>\n",
              "      </button>\n",
              "      \n",
              "  <style>\n",
              "    .colab-df-container {\n",
              "      display:flex;\n",
              "      flex-wrap:wrap;\n",
              "      gap: 12px;\n",
              "    }\n",
              "\n",
              "    .colab-df-convert {\n",
              "      background-color: #E8F0FE;\n",
              "      border: none;\n",
              "      border-radius: 50%;\n",
              "      cursor: pointer;\n",
              "      display: none;\n",
              "      fill: #1967D2;\n",
              "      height: 32px;\n",
              "      padding: 0 0 0 0;\n",
              "      width: 32px;\n",
              "    }\n",
              "\n",
              "    .colab-df-convert:hover {\n",
              "      background-color: #E2EBFA;\n",
              "      box-shadow: 0px 1px 2px rgba(60, 64, 67, 0.3), 0px 1px 3px 1px rgba(60, 64, 67, 0.15);\n",
              "      fill: #174EA6;\n",
              "    }\n",
              "\n",
              "    [theme=dark] .colab-df-convert {\n",
              "      background-color: #3B4455;\n",
              "      fill: #D2E3FC;\n",
              "    }\n",
              "\n",
              "    [theme=dark] .colab-df-convert:hover {\n",
              "      background-color: #434B5C;\n",
              "      box-shadow: 0px 1px 3px 1px rgba(0, 0, 0, 0.15);\n",
              "      filter: drop-shadow(0px 1px 2px rgba(0, 0, 0, 0.3));\n",
              "      fill: #FFFFFF;\n",
              "    }\n",
              "  </style>\n",
              "\n",
              "      <script>\n",
              "        const buttonEl =\n",
              "          document.querySelector('#df-1b0d1d66-601b-4711-be9d-285c88fe6d65 button.colab-df-convert');\n",
              "        buttonEl.style.display =\n",
              "          google.colab.kernel.accessAllowed ? 'block' : 'none';\n",
              "\n",
              "        async function convertToInteractive(key) {\n",
              "          const element = document.querySelector('#df-1b0d1d66-601b-4711-be9d-285c88fe6d65');\n",
              "          const dataTable =\n",
              "            await google.colab.kernel.invokeFunction('convertToInteractive',\n",
              "                                                     [key], {});\n",
              "          if (!dataTable) return;\n",
              "\n",
              "          const docLinkHtml = 'Like what you see? Visit the ' +\n",
              "            '<a target=\"_blank\" href=https://colab.research.google.com/notebooks/data_table.ipynb>data table notebook</a>'\n",
              "            + ' to learn more about interactive tables.';\n",
              "          element.innerHTML = '';\n",
              "          dataTable['output_type'] = 'display_data';\n",
              "          await google.colab.output.renderOutput(dataTable, element);\n",
              "          const docLink = document.createElement('div');\n",
              "          docLink.innerHTML = docLinkHtml;\n",
              "          element.appendChild(docLink);\n",
              "        }\n",
              "      </script>\n",
              "    </div>\n",
              "  </div>\n",
              "  "
            ]
          },
          "metadata": {},
          "execution_count": 98
        }
      ]
    },
    {
      "cell_type": "markdown",
      "metadata": {
        "id": "X2S_DBKbgTRF"
      },
      "source": [
        "Verifiquemos los tipos de datos del dataframe"
      ]
    },
    {
      "cell_type": "code",
      "metadata": {
        "id": "8k1X1giqgWlC",
        "colab": {
          "base_uri": "https://localhost:8080/"
        },
        "outputId": "3b00b649-723a-4456-9e96-8f9fba02e6c2"
      },
      "source": [
        "df.dtypes"
      ],
      "execution_count": null,
      "outputs": [
        {
          "output_type": "execute_result",
          "data": {
            "text/plain": [
              "Book Name           object\n",
              "Author              object\n",
              "Rating             float64\n",
              "Customers_Rated     object\n",
              "Price              float64\n",
              "dtype: object"
            ]
          },
          "metadata": {},
          "execution_count": 99
        }
      ]
    },
    {
      "cell_type": "code",
      "metadata": {
        "id": "K2Wn7BJ0gaVI"
      },
      "source": [
        "#Reemplazar los valores en cero del dataframe por NaN\n",
        "df.replace(str(0), np.nan, inplace=True)\n",
        "df.replace(0, np.nan, inplace=True)"
      ],
      "execution_count": null,
      "outputs": []
    },
    {
      "cell_type": "code",
      "metadata": {
        "id": "0IOLwVp3gc3o"
      },
      "source": [
        "#Contar la cantidad de NaNs en el dataframe\n",
        "count_nan = len(df) - df.count()"
      ],
      "execution_count": null,
      "outputs": []
    },
    {
      "cell_type": "code",
      "metadata": {
        "id": "gbJ2GYdQgsOP",
        "colab": {
          "base_uri": "https://localhost:8080/"
        },
        "outputId": "8fafbfa5-9889-44b3-a236-f477382428d6"
      },
      "source": [
        "count_nan"
      ],
      "execution_count": null,
      "outputs": [
        {
          "output_type": "execute_result",
          "data": {
            "text/plain": [
              "Book Name          0\n",
              "Author             0\n",
              "Rating             0\n",
              "Customers_Rated    0\n",
              "Price              0\n",
              "dtype: int64"
            ]
          },
          "metadata": {},
          "execution_count": 102
        }
      ]
    },
    {
      "cell_type": "code",
      "metadata": {
        "id": "gPydf378guCU"
      },
      "source": [
        "#eliminemos los NaNs\n",
        "df = df.dropna()"
      ],
      "execution_count": null,
      "outputs": []
    },
    {
      "cell_type": "markdown",
      "metadata": {
        "id": "3t1pELz7g9-n"
      },
      "source": [
        "**Autores Libro con el precio más alto**\n",
        "Averigüemos qué autores obtuvieron el libro más caro. Visualizará los resultados de los 20 autores principales."
      ]
    },
    {
      "cell_type": "code",
      "metadata": {
        "id": "I5UAWD0qhBw2"
      },
      "source": [
        "data = df.sort_values([\"Price\"], axis=0, ascending=False)[:10]"
      ],
      "execution_count": null,
      "outputs": []
    },
    {
      "cell_type": "code",
      "metadata": {
        "id": "WWwxMFJMhC5t",
        "colab": {
          "base_uri": "https://localhost:8080/",
          "height": 615
        },
        "outputId": "ecd73d7e-0999-4742-c083-62bcc61ddc7b"
      },
      "source": [
        "data"
      ],
      "execution_count": null,
      "outputs": [
        {
          "output_type": "execute_result",
          "data": {
            "text/plain": [
              "                                            Book Name  \\\n",
              "15  Indian Polity ( English| 6th Revised Edition) ...   \n",
              "23  MTG Objective NCERT at your FINGERTIPS Biology...   \n",
              "14                               THE 48 LAWS OF POWER   \n",
              "35  NCERT Objective Studies Kit for UPSC, State PS...   \n",
              "56  R D Sharma Mathematics Class 9 with MCQ in Mat...   \n",
              "1   Atomic Habits: the life-changing million-copy ...   \n",
              "59  SSC Maths 6800 TCS MCQ chapter wise 4th editio...   \n",
              "45  Oswaal CBSE Class 10 Social Science Question B...   \n",
              "58  Arihant All In One Class 12th English Core for...   \n",
              "12  28 Years UPSC Civil Services IAS Prelims Topic...   \n",
              "\n",
              "                                 Author  Rating  \\\n",
              "15                         M Laxmikanth     4.5   \n",
              "23                  MTG Editorial Board     4.3   \n",
              "14                        Robert Greene     4.6   \n",
              "35  IAS (AIR-49) Dr. Ranjit Kumar Singh     4.2   \n",
              "56                          R.D. Sharma     4.5   \n",
              "1                           James Clear     4.6   \n",
              "59                Pinnacle Publications     4.2   \n",
              "45               Oswaal Editorial Board     4.6   \n",
              "58    Vaishali Jaiswal Srishti Agarwal      5.0   \n",
              "12                         Mrunal Patel     4.3   \n",
              "\n",
              "                        Customers_Rated   Price  \n",
              "15                                 4447  709.00  \n",
              "23                                   93  639.00  \n",
              "14                                16380  630.00  \n",
              "35  IAS (AIR-49) Dr. Ranjit Kumar Singh  563.75  \n",
              "56                                 1484  539.00  \n",
              "1                                 78183  525.00  \n",
              "59                Pinnacle Publications  499.00  \n",
              "45                                   79  433.00  \n",
              "58    Vaishali Jaiswal Srishti Agarwal   421.00  \n",
              "12                         Mrunal Patel  416.00  "
            ],
            "text/html": [
              "\n",
              "  <div id=\"df-4bf70d72-3ddc-4a93-b03a-db7b01511bf5\">\n",
              "    <div class=\"colab-df-container\">\n",
              "      <div>\n",
              "<style scoped>\n",
              "    .dataframe tbody tr th:only-of-type {\n",
              "        vertical-align: middle;\n",
              "    }\n",
              "\n",
              "    .dataframe tbody tr th {\n",
              "        vertical-align: top;\n",
              "    }\n",
              "\n",
              "    .dataframe thead th {\n",
              "        text-align: right;\n",
              "    }\n",
              "</style>\n",
              "<table border=\"1\" class=\"dataframe\">\n",
              "  <thead>\n",
              "    <tr style=\"text-align: right;\">\n",
              "      <th></th>\n",
              "      <th>Book Name</th>\n",
              "      <th>Author</th>\n",
              "      <th>Rating</th>\n",
              "      <th>Customers_Rated</th>\n",
              "      <th>Price</th>\n",
              "    </tr>\n",
              "  </thead>\n",
              "  <tbody>\n",
              "    <tr>\n",
              "      <th>15</th>\n",
              "      <td>Indian Polity ( English| 6th Revised Edition) ...</td>\n",
              "      <td>M Laxmikanth</td>\n",
              "      <td>4.5</td>\n",
              "      <td>4447</td>\n",
              "      <td>709.00</td>\n",
              "    </tr>\n",
              "    <tr>\n",
              "      <th>23</th>\n",
              "      <td>MTG Objective NCERT at your FINGERTIPS Biology...</td>\n",
              "      <td>MTG Editorial Board</td>\n",
              "      <td>4.3</td>\n",
              "      <td>93</td>\n",
              "      <td>639.00</td>\n",
              "    </tr>\n",
              "    <tr>\n",
              "      <th>14</th>\n",
              "      <td>THE 48 LAWS OF POWER</td>\n",
              "      <td>Robert Greene</td>\n",
              "      <td>4.6</td>\n",
              "      <td>16380</td>\n",
              "      <td>630.00</td>\n",
              "    </tr>\n",
              "    <tr>\n",
              "      <th>35</th>\n",
              "      <td>NCERT Objective Studies Kit for UPSC, State PS...</td>\n",
              "      <td>IAS (AIR-49) Dr. Ranjit Kumar Singh</td>\n",
              "      <td>4.2</td>\n",
              "      <td>IAS (AIR-49) Dr. Ranjit Kumar Singh</td>\n",
              "      <td>563.75</td>\n",
              "    </tr>\n",
              "    <tr>\n",
              "      <th>56</th>\n",
              "      <td>R D Sharma Mathematics Class 9 with MCQ in Mat...</td>\n",
              "      <td>R.D. Sharma</td>\n",
              "      <td>4.5</td>\n",
              "      <td>1484</td>\n",
              "      <td>539.00</td>\n",
              "    </tr>\n",
              "    <tr>\n",
              "      <th>1</th>\n",
              "      <td>Atomic Habits: the life-changing million-copy ...</td>\n",
              "      <td>James Clear</td>\n",
              "      <td>4.6</td>\n",
              "      <td>78183</td>\n",
              "      <td>525.00</td>\n",
              "    </tr>\n",
              "    <tr>\n",
              "      <th>59</th>\n",
              "      <td>SSC Maths 6800 TCS MCQ chapter wise 4th editio...</td>\n",
              "      <td>Pinnacle Publications</td>\n",
              "      <td>4.2</td>\n",
              "      <td>Pinnacle Publications</td>\n",
              "      <td>499.00</td>\n",
              "    </tr>\n",
              "    <tr>\n",
              "      <th>45</th>\n",
              "      <td>Oswaal CBSE Class 10 Social Science Question B...</td>\n",
              "      <td>Oswaal Editorial Board</td>\n",
              "      <td>4.6</td>\n",
              "      <td>79</td>\n",
              "      <td>433.00</td>\n",
              "    </tr>\n",
              "    <tr>\n",
              "      <th>58</th>\n",
              "      <td>Arihant All In One Class 12th English Core for...</td>\n",
              "      <td>Vaishali Jaiswal Srishti Agarwal</td>\n",
              "      <td>5.0</td>\n",
              "      <td>Vaishali Jaiswal Srishti Agarwal</td>\n",
              "      <td>421.00</td>\n",
              "    </tr>\n",
              "    <tr>\n",
              "      <th>12</th>\n",
              "      <td>28 Years UPSC Civil Services IAS Prelims Topic...</td>\n",
              "      <td>Mrunal Patel</td>\n",
              "      <td>4.3</td>\n",
              "      <td>Mrunal Patel</td>\n",
              "      <td>416.00</td>\n",
              "    </tr>\n",
              "  </tbody>\n",
              "</table>\n",
              "</div>\n",
              "      <button class=\"colab-df-convert\" onclick=\"convertToInteractive('df-4bf70d72-3ddc-4a93-b03a-db7b01511bf5')\"\n",
              "              title=\"Convert this dataframe to an interactive table.\"\n",
              "              style=\"display:none;\">\n",
              "        \n",
              "  <svg xmlns=\"http://www.w3.org/2000/svg\" height=\"24px\"viewBox=\"0 0 24 24\"\n",
              "       width=\"24px\">\n",
              "    <path d=\"M0 0h24v24H0V0z\" fill=\"none\"/>\n",
              "    <path d=\"M18.56 5.44l.94 2.06.94-2.06 2.06-.94-2.06-.94-.94-2.06-.94 2.06-2.06.94zm-11 1L8.5 8.5l.94-2.06 2.06-.94-2.06-.94L8.5 2.5l-.94 2.06-2.06.94zm10 10l.94 2.06.94-2.06 2.06-.94-2.06-.94-.94-2.06-.94 2.06-2.06.94z\"/><path d=\"M17.41 7.96l-1.37-1.37c-.4-.4-.92-.59-1.43-.59-.52 0-1.04.2-1.43.59L10.3 9.45l-7.72 7.72c-.78.78-.78 2.05 0 2.83L4 21.41c.39.39.9.59 1.41.59.51 0 1.02-.2 1.41-.59l7.78-7.78 2.81-2.81c.8-.78.8-2.07 0-2.86zM5.41 20L4 18.59l7.72-7.72 1.47 1.35L5.41 20z\"/>\n",
              "  </svg>\n",
              "      </button>\n",
              "      \n",
              "  <style>\n",
              "    .colab-df-container {\n",
              "      display:flex;\n",
              "      flex-wrap:wrap;\n",
              "      gap: 12px;\n",
              "    }\n",
              "\n",
              "    .colab-df-convert {\n",
              "      background-color: #E8F0FE;\n",
              "      border: none;\n",
              "      border-radius: 50%;\n",
              "      cursor: pointer;\n",
              "      display: none;\n",
              "      fill: #1967D2;\n",
              "      height: 32px;\n",
              "      padding: 0 0 0 0;\n",
              "      width: 32px;\n",
              "    }\n",
              "\n",
              "    .colab-df-convert:hover {\n",
              "      background-color: #E2EBFA;\n",
              "      box-shadow: 0px 1px 2px rgba(60, 64, 67, 0.3), 0px 1px 3px 1px rgba(60, 64, 67, 0.15);\n",
              "      fill: #174EA6;\n",
              "    }\n",
              "\n",
              "    [theme=dark] .colab-df-convert {\n",
              "      background-color: #3B4455;\n",
              "      fill: #D2E3FC;\n",
              "    }\n",
              "\n",
              "    [theme=dark] .colab-df-convert:hover {\n",
              "      background-color: #434B5C;\n",
              "      box-shadow: 0px 1px 3px 1px rgba(0, 0, 0, 0.15);\n",
              "      filter: drop-shadow(0px 1px 2px rgba(0, 0, 0, 0.3));\n",
              "      fill: #FFFFFF;\n",
              "    }\n",
              "  </style>\n",
              "\n",
              "      <script>\n",
              "        const buttonEl =\n",
              "          document.querySelector('#df-4bf70d72-3ddc-4a93-b03a-db7b01511bf5 button.colab-df-convert');\n",
              "        buttonEl.style.display =\n",
              "          google.colab.kernel.accessAllowed ? 'block' : 'none';\n",
              "\n",
              "        async function convertToInteractive(key) {\n",
              "          const element = document.querySelector('#df-4bf70d72-3ddc-4a93-b03a-db7b01511bf5');\n",
              "          const dataTable =\n",
              "            await google.colab.kernel.invokeFunction('convertToInteractive',\n",
              "                                                     [key], {});\n",
              "          if (!dataTable) return;\n",
              "\n",
              "          const docLinkHtml = 'Like what you see? Visit the ' +\n",
              "            '<a target=\"_blank\" href=https://colab.research.google.com/notebooks/data_table.ipynb>data table notebook</a>'\n",
              "            + ' to learn more about interactive tables.';\n",
              "          element.innerHTML = '';\n",
              "          dataTable['output_type'] = 'display_data';\n",
              "          await google.colab.output.renderOutput(dataTable, element);\n",
              "          const docLink = document.createElement('div');\n",
              "          docLink.innerHTML = docLinkHtml;\n",
              "          element.appendChild(docLink);\n",
              "        }\n",
              "      </script>\n",
              "    </div>\n",
              "  </div>\n",
              "  "
            ]
          },
          "metadata": {},
          "execution_count": 105
        }
      ]
    },
    {
      "cell_type": "code",
      "metadata": {
        "id": "_FLskwcPh5Xb",
        "colab": {
          "base_uri": "https://localhost:8080/"
        },
        "outputId": "30a59082-08ed-4dfd-928b-236e611b679b"
      },
      "source": [
        "pip install bokeh"
      ],
      "execution_count": null,
      "outputs": [
        {
          "output_type": "stream",
          "name": "stdout",
          "text": [
            "Looking in indexes: https://pypi.org/simple, https://us-python.pkg.dev/colab-wheels/public/simple/\n",
            "Requirement already satisfied: bokeh in /usr/local/lib/python3.10/dist-packages (2.4.3)\n",
            "Requirement already satisfied: Jinja2>=2.9 in /usr/local/lib/python3.10/dist-packages (from bokeh) (3.1.2)\n",
            "Requirement already satisfied: numpy>=1.11.3 in /usr/local/lib/python3.10/dist-packages (from bokeh) (1.22.4)\n",
            "Requirement already satisfied: packaging>=16.8 in /usr/local/lib/python3.10/dist-packages (from bokeh) (23.1)\n",
            "Requirement already satisfied: pillow>=7.1.0 in /usr/local/lib/python3.10/dist-packages (from bokeh) (8.4.0)\n",
            "Requirement already satisfied: PyYAML>=3.10 in /usr/local/lib/python3.10/dist-packages (from bokeh) (6.0)\n",
            "Requirement already satisfied: tornado>=5.1 in /usr/local/lib/python3.10/dist-packages (from bokeh) (6.3.1)\n",
            "Requirement already satisfied: typing-extensions>=3.10.0 in /usr/local/lib/python3.10/dist-packages (from bokeh) (4.5.0)\n",
            "Requirement already satisfied: MarkupSafe>=2.0 in /usr/local/lib/python3.10/dist-packages (from Jinja2>=2.9->bokeh) (2.1.2)\n"
          ]
        }
      ]
    },
    {
      "cell_type": "code",
      "metadata": {
        "id": "9syn7d4whF8_"
      },
      "source": [
        "from bokeh.models import ColumnDataSource\n",
        "from bokeh.transform import dodge\n",
        "import math\n",
        "from bokeh.io import curdoc\n",
        "curdoc().clear()\n",
        "from bokeh.io import push_notebook, show, output_notebook\n",
        "from bokeh.layouts import row\n",
        "from bokeh.plotting import figure\n",
        "from bokeh.transform import factor_cmap\n",
        "from bokeh.models import Legend\n",
        "output_notebook()"
      ],
      "execution_count": null,
      "outputs": []
    },
    {
      "cell_type": "code",
      "metadata": {
        "id": "l5uSW_-5hHdr"
      },
      "source": [
        "p = figure(x_range=data.iloc[:,1], plot_width=800, plot_height=550, title=\"Autores con los libros mas caros\", toolbar_location=None, tools=\"\")\n",
        "\n",
        "p.vbar(x=data.iloc[:,1], top=data.iloc[:,4], width=0.9)\n",
        "\n",
        "p.xgrid.grid_line_color = None\n",
        "p.y_range.start = 0\n",
        "p.xaxis.major_label_orientation = math.pi/2"
      ],
      "execution_count": null,
      "outputs": []
    },
    {
      "cell_type": "code",
      "metadata": {
        "id": "108I3GyChJm1",
        "colab": {
          "base_uri": "https://localhost:8080/",
          "height": 587
        },
        "outputId": "e9df3911-8886-494a-b488-dd3684ab819c"
      },
      "source": [
        "show(p)"
      ],
      "execution_count": null,
      "outputs": [
        {
          "output_type": "display_data",
          "data": {
            "application/javascript": [
              "(function(root) {\n",
              "  function now() {\n",
              "    return new Date();\n",
              "  }\n",
              "\n",
              "  const force = true;\n",
              "\n",
              "  if (typeof root._bokeh_onload_callbacks === \"undefined\" || force === true) {\n",
              "    root._bokeh_onload_callbacks = [];\n",
              "    root._bokeh_is_loading = undefined;\n",
              "  }\n",
              "\n",
              "const JS_MIME_TYPE = 'application/javascript';\n",
              "  const HTML_MIME_TYPE = 'text/html';\n",
              "  const EXEC_MIME_TYPE = 'application/vnd.bokehjs_exec.v0+json';\n",
              "  const CLASS_NAME = 'output_bokeh rendered_html';\n",
              "\n",
              "  /**\n",
              "   * Render data to the DOM node\n",
              "   */\n",
              "  function render(props, node) {\n",
              "    const script = document.createElement(\"script\");\n",
              "    node.appendChild(script);\n",
              "  }\n",
              "\n",
              "  /**\n",
              "   * Handle when an output is cleared or removed\n",
              "   */\n",
              "  function handleClearOutput(event, handle) {\n",
              "    const cell = handle.cell;\n",
              "\n",
              "    const id = cell.output_area._bokeh_element_id;\n",
              "    const server_id = cell.output_area._bokeh_server_id;\n",
              "    // Clean up Bokeh references\n",
              "    if (id != null && id in Bokeh.index) {\n",
              "      Bokeh.index[id].model.document.clear();\n",
              "      delete Bokeh.index[id];\n",
              "    }\n",
              "\n",
              "    if (server_id !== undefined) {\n",
              "      // Clean up Bokeh references\n",
              "      const cmd_clean = \"from bokeh.io.state import curstate; print(curstate().uuid_to_server['\" + server_id + \"'].get_sessions()[0].document.roots[0]._id)\";\n",
              "      cell.notebook.kernel.execute(cmd_clean, {\n",
              "        iopub: {\n",
              "          output: function(msg) {\n",
              "            const id = msg.content.text.trim();\n",
              "            if (id in Bokeh.index) {\n",
              "              Bokeh.index[id].model.document.clear();\n",
              "              delete Bokeh.index[id];\n",
              "            }\n",
              "          }\n",
              "        }\n",
              "      });\n",
              "      // Destroy server and session\n",
              "      const cmd_destroy = \"import bokeh.io.notebook as ion; ion.destroy_server('\" + server_id + \"')\";\n",
              "      cell.notebook.kernel.execute(cmd_destroy);\n",
              "    }\n",
              "  }\n",
              "\n",
              "  /**\n",
              "   * Handle when a new output is added\n",
              "   */\n",
              "  function handleAddOutput(event, handle) {\n",
              "    const output_area = handle.output_area;\n",
              "    const output = handle.output;\n",
              "\n",
              "    // limit handleAddOutput to display_data with EXEC_MIME_TYPE content only\n",
              "    if ((output.output_type != \"display_data\") || (!Object.prototype.hasOwnProperty.call(output.data, EXEC_MIME_TYPE))) {\n",
              "      return\n",
              "    }\n",
              "\n",
              "    const toinsert = output_area.element.find(\".\" + CLASS_NAME.split(' ')[0]);\n",
              "\n",
              "    if (output.metadata[EXEC_MIME_TYPE][\"id\"] !== undefined) {\n",
              "      toinsert[toinsert.length - 1].firstChild.textContent = output.data[JS_MIME_TYPE];\n",
              "      // store reference to embed id on output_area\n",
              "      output_area._bokeh_element_id = output.metadata[EXEC_MIME_TYPE][\"id\"];\n",
              "    }\n",
              "    if (output.metadata[EXEC_MIME_TYPE][\"server_id\"] !== undefined) {\n",
              "      const bk_div = document.createElement(\"div\");\n",
              "      bk_div.innerHTML = output.data[HTML_MIME_TYPE];\n",
              "      const script_attrs = bk_div.children[0].attributes;\n",
              "      for (let i = 0; i < script_attrs.length; i++) {\n",
              "        toinsert[toinsert.length - 1].firstChild.setAttribute(script_attrs[i].name, script_attrs[i].value);\n",
              "        toinsert[toinsert.length - 1].firstChild.textContent = bk_div.children[0].textContent\n",
              "      }\n",
              "      // store reference to server id on output_area\n",
              "      output_area._bokeh_server_id = output.metadata[EXEC_MIME_TYPE][\"server_id\"];\n",
              "    }\n",
              "  }\n",
              "\n",
              "  function register_renderer(events, OutputArea) {\n",
              "\n",
              "    function append_mime(data, metadata, element) {\n",
              "      // create a DOM node to render to\n",
              "      const toinsert = this.create_output_subarea(\n",
              "        metadata,\n",
              "        CLASS_NAME,\n",
              "        EXEC_MIME_TYPE\n",
              "      );\n",
              "      this.keyboard_manager.register_events(toinsert);\n",
              "      // Render to node\n",
              "      const props = {data: data, metadata: metadata[EXEC_MIME_TYPE]};\n",
              "      render(props, toinsert[toinsert.length - 1]);\n",
              "      element.append(toinsert);\n",
              "      return toinsert\n",
              "    }\n",
              "\n",
              "    /* Handle when an output is cleared or removed */\n",
              "    events.on('clear_output.CodeCell', handleClearOutput);\n",
              "    events.on('delete.Cell', handleClearOutput);\n",
              "\n",
              "    /* Handle when a new output is added */\n",
              "    events.on('output_added.OutputArea', handleAddOutput);\n",
              "\n",
              "    /**\n",
              "     * Register the mime type and append_mime function with output_area\n",
              "     */\n",
              "    OutputArea.prototype.register_mime_type(EXEC_MIME_TYPE, append_mime, {\n",
              "      /* Is output safe? */\n",
              "      safe: true,\n",
              "      /* Index of renderer in `output_area.display_order` */\n",
              "      index: 0\n",
              "    });\n",
              "  }\n",
              "\n",
              "  // register the mime type if in Jupyter Notebook environment and previously unregistered\n",
              "  if (root.Jupyter !== undefined) {\n",
              "    const events = require('base/js/events');\n",
              "    const OutputArea = require('notebook/js/outputarea').OutputArea;\n",
              "\n",
              "    if (OutputArea.prototype.mime_types().indexOf(EXEC_MIME_TYPE) == -1) {\n",
              "      register_renderer(events, OutputArea);\n",
              "    }\n",
              "  }\n",
              "  if (typeof (root._bokeh_timeout) === \"undefined\" || force === true) {\n",
              "    root._bokeh_timeout = Date.now() + 5000;\n",
              "    root._bokeh_failed_load = false;\n",
              "  }\n",
              "\n",
              "  const NB_LOAD_WARNING = {'data': {'text/html':\n",
              "     \"<div style='background-color: #fdd'>\\n\"+\n",
              "     \"<p>\\n\"+\n",
              "     \"BokehJS does not appear to have successfully loaded. If loading BokehJS from CDN, this \\n\"+\n",
              "     \"may be due to a slow or bad network connection. Possible fixes:\\n\"+\n",
              "     \"</p>\\n\"+\n",
              "     \"<ul>\\n\"+\n",
              "     \"<li>re-rerun `output_notebook()` to attempt to load from CDN again, or</li>\\n\"+\n",
              "     \"<li>use INLINE resources instead, as so:</li>\\n\"+\n",
              "     \"</ul>\\n\"+\n",
              "     \"<code>\\n\"+\n",
              "     \"from bokeh.resources import INLINE\\n\"+\n",
              "     \"output_notebook(resources=INLINE)\\n\"+\n",
              "     \"</code>\\n\"+\n",
              "     \"</div>\"}};\n",
              "\n",
              "  function display_loaded() {\n",
              "    const el = document.getElementById(null);\n",
              "    if (el != null) {\n",
              "      el.textContent = \"BokehJS is loading...\";\n",
              "    }\n",
              "    if (root.Bokeh !== undefined) {\n",
              "      if (el != null) {\n",
              "        el.textContent = \"BokehJS \" + root.Bokeh.version + \" successfully loaded.\";\n",
              "      }\n",
              "    } else if (Date.now() < root._bokeh_timeout) {\n",
              "      setTimeout(display_loaded, 100)\n",
              "    }\n",
              "  }\n",
              "\n",
              "  function run_callbacks() {\n",
              "    try {\n",
              "      root._bokeh_onload_callbacks.forEach(function(callback) {\n",
              "        if (callback != null)\n",
              "          callback();\n",
              "      });\n",
              "    } finally {\n",
              "      delete root._bokeh_onload_callbacks\n",
              "    }\n",
              "    console.debug(\"Bokeh: all callbacks have finished\");\n",
              "  }\n",
              "\n",
              "  function load_libs(css_urls, js_urls, callback) {\n",
              "    if (css_urls == null) css_urls = [];\n",
              "    if (js_urls == null) js_urls = [];\n",
              "\n",
              "    root._bokeh_onload_callbacks.push(callback);\n",
              "    if (root._bokeh_is_loading > 0) {\n",
              "      console.debug(\"Bokeh: BokehJS is being loaded, scheduling callback at\", now());\n",
              "      return null;\n",
              "    }\n",
              "    if (js_urls == null || js_urls.length === 0) {\n",
              "      run_callbacks();\n",
              "      return null;\n",
              "    }\n",
              "    console.debug(\"Bokeh: BokehJS not loaded, scheduling load and callback at\", now());\n",
              "    root._bokeh_is_loading = css_urls.length + js_urls.length;\n",
              "\n",
              "    function on_load() {\n",
              "      root._bokeh_is_loading--;\n",
              "      if (root._bokeh_is_loading === 0) {\n",
              "        console.debug(\"Bokeh: all BokehJS libraries/stylesheets loaded\");\n",
              "        run_callbacks()\n",
              "      }\n",
              "    }\n",
              "\n",
              "    function on_error(url) {\n",
              "      console.error(\"failed to load \" + url);\n",
              "    }\n",
              "\n",
              "    for (let i = 0; i < css_urls.length; i++) {\n",
              "      const url = css_urls[i];\n",
              "      const element = document.createElement(\"link\");\n",
              "      element.onload = on_load;\n",
              "      element.onerror = on_error.bind(null, url);\n",
              "      element.rel = \"stylesheet\";\n",
              "      element.type = \"text/css\";\n",
              "      element.href = url;\n",
              "      console.debug(\"Bokeh: injecting link tag for BokehJS stylesheet: \", url);\n",
              "      document.body.appendChild(element);\n",
              "    }\n",
              "\n",
              "    for (let i = 0; i < js_urls.length; i++) {\n",
              "      const url = js_urls[i];\n",
              "      const element = document.createElement('script');\n",
              "      element.onload = on_load;\n",
              "      element.onerror = on_error.bind(null, url);\n",
              "      element.async = false;\n",
              "      element.src = url;\n",
              "      console.debug(\"Bokeh: injecting script tag for BokehJS library: \", url);\n",
              "      document.head.appendChild(element);\n",
              "    }\n",
              "  };\n",
              "\n",
              "  function inject_raw_css(css) {\n",
              "    const element = document.createElement(\"style\");\n",
              "    element.appendChild(document.createTextNode(css));\n",
              "    document.body.appendChild(element);\n",
              "  }\n",
              "\n",
              "  const js_urls = [\"https://cdn.bokeh.org/bokeh/release/bokeh-2.4.3.min.js\", \"https://cdn.bokeh.org/bokeh/release/bokeh-gl-2.4.3.min.js\", \"https://cdn.bokeh.org/bokeh/release/bokeh-widgets-2.4.3.min.js\", \"https://cdn.bokeh.org/bokeh/release/bokeh-tables-2.4.3.min.js\", \"https://cdn.bokeh.org/bokeh/release/bokeh-mathjax-2.4.3.min.js\"];\n",
              "  const css_urls = [];\n",
              "\n",
              "  const inline_js = [    function(Bokeh) {\n",
              "      Bokeh.set_log_level(\"info\");\n",
              "    },\n",
              "function(Bokeh) {\n",
              "    }\n",
              "  ];\n",
              "\n",
              "  function run_inline_js() {\n",
              "    if (root.Bokeh !== undefined || force === true) {\n",
              "          for (let i = 0; i < inline_js.length; i++) {\n",
              "      inline_js[i].call(root, root.Bokeh);\n",
              "    }\n",
              "} else if (Date.now() < root._bokeh_timeout) {\n",
              "      setTimeout(run_inline_js, 100);\n",
              "    } else if (!root._bokeh_failed_load) {\n",
              "      console.log(\"Bokeh: BokehJS failed to load within specified timeout.\");\n",
              "      root._bokeh_failed_load = true;\n",
              "    } else if (force !== true) {\n",
              "      const cell = $(document.getElementById(null)).parents('.cell').data().cell;\n",
              "      cell.output_area.append_execute_result(NB_LOAD_WARNING)\n",
              "    }\n",
              "  }\n",
              "\n",
              "  if (root._bokeh_is_loading === 0) {\n",
              "    console.debug(\"Bokeh: BokehJS loaded, going straight to plotting\");\n",
              "    run_inline_js();\n",
              "  } else {\n",
              "    load_libs(css_urls, js_urls, function() {\n",
              "      console.debug(\"Bokeh: BokehJS plotting callback run at\", now());\n",
              "      run_inline_js();\n",
              "    });\n",
              "  }\n",
              "}(window));"
            ],
            "application/vnd.bokehjs_load.v0+json": "(function(root) {\n  function now() {\n    return new Date();\n  }\n\n  const force = true;\n\n  if (typeof root._bokeh_onload_callbacks === \"undefined\" || force === true) {\n    root._bokeh_onload_callbacks = [];\n    root._bokeh_is_loading = undefined;\n  }\n\n\n  if (typeof (root._bokeh_timeout) === \"undefined\" || force === true) {\n    root._bokeh_timeout = Date.now() + 5000;\n    root._bokeh_failed_load = false;\n  }\n\n  const NB_LOAD_WARNING = {'data': {'text/html':\n     \"<div style='background-color: #fdd'>\\n\"+\n     \"<p>\\n\"+\n     \"BokehJS does not appear to have successfully loaded. If loading BokehJS from CDN, this \\n\"+\n     \"may be due to a slow or bad network connection. Possible fixes:\\n\"+\n     \"</p>\\n\"+\n     \"<ul>\\n\"+\n     \"<li>re-rerun `output_notebook()` to attempt to load from CDN again, or</li>\\n\"+\n     \"<li>use INLINE resources instead, as so:</li>\\n\"+\n     \"</ul>\\n\"+\n     \"<code>\\n\"+\n     \"from bokeh.resources import INLINE\\n\"+\n     \"output_notebook(resources=INLINE)\\n\"+\n     \"</code>\\n\"+\n     \"</div>\"}};\n\n  function display_loaded() {\n    const el = document.getElementById(null);\n    if (el != null) {\n      el.textContent = \"BokehJS is loading...\";\n    }\n    if (root.Bokeh !== undefined) {\n      if (el != null) {\n        el.textContent = \"BokehJS \" + root.Bokeh.version + \" successfully loaded.\";\n      }\n    } else if (Date.now() < root._bokeh_timeout) {\n      setTimeout(display_loaded, 100)\n    }\n  }\n\n  function run_callbacks() {\n    try {\n      root._bokeh_onload_callbacks.forEach(function(callback) {\n        if (callback != null)\n          callback();\n      });\n    } finally {\n      delete root._bokeh_onload_callbacks\n    }\n    console.debug(\"Bokeh: all callbacks have finished\");\n  }\n\n  function load_libs(css_urls, js_urls, callback) {\n    if (css_urls == null) css_urls = [];\n    if (js_urls == null) js_urls = [];\n\n    root._bokeh_onload_callbacks.push(callback);\n    if (root._bokeh_is_loading > 0) {\n      console.debug(\"Bokeh: BokehJS is being loaded, scheduling callback at\", now());\n      return null;\n    }\n    if (js_urls == null || js_urls.length === 0) {\n      run_callbacks();\n      return null;\n    }\n    console.debug(\"Bokeh: BokehJS not loaded, scheduling load and callback at\", now());\n    root._bokeh_is_loading = css_urls.length + js_urls.length;\n\n    function on_load() {\n      root._bokeh_is_loading--;\n      if (root._bokeh_is_loading === 0) {\n        console.debug(\"Bokeh: all BokehJS libraries/stylesheets loaded\");\n        run_callbacks()\n      }\n    }\n\n    function on_error(url) {\n      console.error(\"failed to load \" + url);\n    }\n\n    for (let i = 0; i < css_urls.length; i++) {\n      const url = css_urls[i];\n      const element = document.createElement(\"link\");\n      element.onload = on_load;\n      element.onerror = on_error.bind(null, url);\n      element.rel = \"stylesheet\";\n      element.type = \"text/css\";\n      element.href = url;\n      console.debug(\"Bokeh: injecting link tag for BokehJS stylesheet: \", url);\n      document.body.appendChild(element);\n    }\n\n    for (let i = 0; i < js_urls.length; i++) {\n      const url = js_urls[i];\n      const element = document.createElement('script');\n      element.onload = on_load;\n      element.onerror = on_error.bind(null, url);\n      element.async = false;\n      element.src = url;\n      console.debug(\"Bokeh: injecting script tag for BokehJS library: \", url);\n      document.head.appendChild(element);\n    }\n  };\n\n  function inject_raw_css(css) {\n    const element = document.createElement(\"style\");\n    element.appendChild(document.createTextNode(css));\n    document.body.appendChild(element);\n  }\n\n  const js_urls = [\"https://cdn.bokeh.org/bokeh/release/bokeh-2.4.3.min.js\", \"https://cdn.bokeh.org/bokeh/release/bokeh-gl-2.4.3.min.js\", \"https://cdn.bokeh.org/bokeh/release/bokeh-widgets-2.4.3.min.js\", \"https://cdn.bokeh.org/bokeh/release/bokeh-tables-2.4.3.min.js\", \"https://cdn.bokeh.org/bokeh/release/bokeh-mathjax-2.4.3.min.js\"];\n  const css_urls = [];\n\n  const inline_js = [    function(Bokeh) {\n      Bokeh.set_log_level(\"info\");\n    },\nfunction(Bokeh) {\n    }\n  ];\n\n  function run_inline_js() {\n    if (root.Bokeh !== undefined || force === true) {\n          for (let i = 0; i < inline_js.length; i++) {\n      inline_js[i].call(root, root.Bokeh);\n    }\n} else if (Date.now() < root._bokeh_timeout) {\n      setTimeout(run_inline_js, 100);\n    } else if (!root._bokeh_failed_load) {\n      console.log(\"Bokeh: BokehJS failed to load within specified timeout.\");\n      root._bokeh_failed_load = true;\n    } else if (force !== true) {\n      const cell = $(document.getElementById(null)).parents('.cell').data().cell;\n      cell.output_area.append_execute_result(NB_LOAD_WARNING)\n    }\n  }\n\n  if (root._bokeh_is_loading === 0) {\n    console.debug(\"Bokeh: BokehJS loaded, going straight to plotting\");\n    run_inline_js();\n  } else {\n    load_libs(css_urls, js_urls, function() {\n      console.debug(\"Bokeh: BokehJS plotting callback run at\", now());\n      run_inline_js();\n    });\n  }\n}(window));"
          },
          "metadata": {}
        },
        {
          "output_type": "display_data",
          "data": {
            "text/html": [
              "\n",
              "  <div class=\"bk-root\" id=\"fcbb6636-0b06-4da7-92f0-0df9e017d48f\" data-root-id=\"1002\"></div>\n"
            ]
          },
          "metadata": {}
        },
        {
          "output_type": "display_data",
          "data": {
            "application/javascript": [
              "(function(root) {\n",
              "  function embed_document(root) {\n",
              "  const docs_json = {\"0af85817-06ed-47e1-aafa-7ad6f0e8864f\":{\"defs\":[],\"roots\":{\"references\":[{\"attributes\":{\"below\":[{\"id\":\"1013\"}],\"center\":[{\"id\":\"1015\"},{\"id\":\"1019\"}],\"height\":550,\"left\":[{\"id\":\"1016\"}],\"renderers\":[{\"id\":\"1025\"}],\"title\":{\"id\":\"1003\"},\"toolbar\":{\"id\":\"1020\"},\"toolbar_location\":null,\"width\":800,\"x_range\":{\"id\":\"1005\"},\"x_scale\":{\"id\":\"1009\"},\"y_range\":{\"id\":\"1007\"},\"y_scale\":{\"id\":\"1011\"}},\"id\":\"1002\",\"subtype\":\"Figure\",\"type\":\"Plot\"},{\"attributes\":{},\"id\":\"1035\",\"type\":\"Selection\"},{\"attributes\":{},\"id\":\"1014\",\"type\":\"CategoricalTicker\"},{\"attributes\":{},\"id\":\"1029\",\"type\":\"BasicTickFormatter\"},{\"attributes\":{},\"id\":\"1020\",\"type\":\"Toolbar\"},{\"attributes\":{\"coordinates\":null,\"group\":null,\"text\":\"Autores con los libros mas caros\"},\"id\":\"1003\",\"type\":\"Title\"},{\"attributes\":{},\"id\":\"1033\",\"type\":\"AllLabels\"},{\"attributes\":{\"axis\":{\"id\":\"1016\"},\"coordinates\":null,\"dimension\":1,\"group\":null,\"ticker\":null},\"id\":\"1019\",\"type\":\"Grid\"},{\"attributes\":{\"factors\":[\"M Laxmikanth\",\"MTG Editorial Board\",\"Robert Greene\",\"IAS (AIR-49) Dr. Ranjit Kumar Singh\",\"R.D. Sharma\",\"James Clear\",\"Pinnacle Publications\",\"Oswaal Editorial Board\",\"Vaishali Jaiswal Srishti Agarwal \",\"Mrunal Patel\"]},\"id\":\"1005\",\"type\":\"FactorRange\"},{\"attributes\":{},\"id\":\"1009\",\"type\":\"CategoricalScale\"},{\"attributes\":{},\"id\":\"1011\",\"type\":\"LinearScale\"},{\"attributes\":{\"start\":0},\"id\":\"1007\",\"type\":\"DataRange1d\"},{\"attributes\":{},\"id\":\"1030\",\"type\":\"AllLabels\"},{\"attributes\":{\"axis\":{\"id\":\"1013\"},\"coordinates\":null,\"grid_line_color\":null,\"group\":null,\"ticker\":null},\"id\":\"1015\",\"type\":\"Grid\"},{\"attributes\":{\"coordinates\":null,\"formatter\":{\"id\":\"1032\"},\"group\":null,\"major_label_orientation\":1.5707963267948966,\"major_label_policy\":{\"id\":\"1033\"},\"ticker\":{\"id\":\"1014\"}},\"id\":\"1013\",\"type\":\"CategoricalAxis\"},{\"attributes\":{\"fill_alpha\":{\"value\":0.1},\"fill_color\":{\"value\":\"#1f77b4\"},\"hatch_alpha\":{\"value\":0.1},\"line_alpha\":{\"value\":0.1},\"line_color\":{\"value\":\"#1f77b4\"},\"top\":{\"field\":\"top\"},\"width\":{\"value\":0.9},\"x\":{\"field\":\"x\"}},\"id\":\"1023\",\"type\":\"VBar\"},{\"attributes\":{\"fill_alpha\":{\"value\":0.2},\"fill_color\":{\"value\":\"#1f77b4\"},\"hatch_alpha\":{\"value\":0.2},\"line_alpha\":{\"value\":0.2},\"line_color\":{\"value\":\"#1f77b4\"},\"top\":{\"field\":\"top\"},\"width\":{\"value\":0.9},\"x\":{\"field\":\"x\"}},\"id\":\"1024\",\"type\":\"VBar\"},{\"attributes\":{\"source\":{\"id\":\"1021\"}},\"id\":\"1026\",\"type\":\"CDSView\"},{\"attributes\":{\"coordinates\":null,\"data_source\":{\"id\":\"1021\"},\"glyph\":{\"id\":\"1022\"},\"group\":null,\"hover_glyph\":null,\"muted_glyph\":{\"id\":\"1024\"},\"nonselection_glyph\":{\"id\":\"1023\"},\"view\":{\"id\":\"1026\"}},\"id\":\"1025\",\"type\":\"GlyphRenderer\"},{\"attributes\":{},\"id\":\"1034\",\"type\":\"UnionRenderers\"},{\"attributes\":{},\"id\":\"1017\",\"type\":\"BasicTicker\"},{\"attributes\":{\"data\":{\"top\":{\"__ndarray__\":\"AAAAAAAohkAAAAAAAPiDQAAAAAAAsINAAAAAAACegUAAAAAAANiAQAAAAAAAaIBAAAAAAAAwf0AAAAAAABB7QAAAAAAAUHpAAAAAAAAAekA=\",\"dtype\":\"float64\",\"order\":\"little\",\"shape\":[10]},\"x\":[\"M Laxmikanth\",\"MTG Editorial Board\",\"Robert Greene\",\"IAS (AIR-49) Dr. Ranjit Kumar Singh\",\"R.D. Sharma\",\"James Clear\",\"Pinnacle Publications\",\"Oswaal Editorial Board\",\"Vaishali Jaiswal Srishti Agarwal \",\"Mrunal Patel\"]},\"selected\":{\"id\":\"1035\"},\"selection_policy\":{\"id\":\"1034\"}},\"id\":\"1021\",\"type\":\"ColumnDataSource\"},{\"attributes\":{\"coordinates\":null,\"formatter\":{\"id\":\"1029\"},\"group\":null,\"major_label_policy\":{\"id\":\"1030\"},\"ticker\":{\"id\":\"1017\"}},\"id\":\"1016\",\"type\":\"LinearAxis\"},{\"attributes\":{\"fill_color\":{\"value\":\"#1f77b4\"},\"line_color\":{\"value\":\"#1f77b4\"},\"top\":{\"field\":\"top\"},\"width\":{\"value\":0.9},\"x\":{\"field\":\"x\"}},\"id\":\"1022\",\"type\":\"VBar\"},{\"attributes\":{},\"id\":\"1032\",\"type\":\"CategoricalTickFormatter\"}],\"root_ids\":[\"1002\"]},\"title\":\"Bokeh Application\",\"version\":\"2.4.3\"}};\n",
              "  const render_items = [{\"docid\":\"0af85817-06ed-47e1-aafa-7ad6f0e8864f\",\"root_ids\":[\"1002\"],\"roots\":{\"1002\":\"fcbb6636-0b06-4da7-92f0-0df9e017d48f\"}}];\n",
              "  root.Bokeh.embed.embed_items_notebook(docs_json, render_items);\n",
              "  }\n",
              "  if (root.Bokeh !== undefined) {\n",
              "    embed_document(root);\n",
              "  } else {\n",
              "    let attempts = 0;\n",
              "    const timer = setInterval(function(root) {\n",
              "      if (root.Bokeh !== undefined) {\n",
              "        clearInterval(timer);\n",
              "        embed_document(root);\n",
              "      } else {\n",
              "        attempts++;\n",
              "        if (attempts > 100) {\n",
              "          clearInterval(timer);\n",
              "          console.log(\"Bokeh: ERROR: Unable to run BokehJS code because BokehJS library is missing\");\n",
              "        }\n",
              "      }\n",
              "    }, 10, root)\n",
              "  }\n",
              "})(window);"
            ],
            "application/vnd.bokehjs_exec.v0+json": ""
          },
          "metadata": {
            "application/vnd.bokehjs_exec.v0+json": {
              "id": "1002"
            }
          }
        }
      ]
    },
    {
      "cell_type": "markdown",
      "metadata": {
        "id": "MRfEW9TwiUhT"
      },
      "source": [
        "# Tarea!"
      ]
    },
    {
      "cell_type": "markdown",
      "metadata": {
        "id": "oaSoEmjKirpe"
      },
      "source": [
        "Hacer scraping de amazon comparando precios de un producto de su interes.\n",
        "\n"
      ]
    },
    {
      "cell_type": "code",
      "source": [
        "#import libraries to use\n",
        "import pandas as pd\n",
        "import numpy as np\n",
        "import matplotlib.pyplot as plt\n",
        "import seaborn as sns\n",
        "%matplotlib inline\n",
        "import re\n",
        "import time\n",
        "from datetime import datetime\n",
        "import matplotlib.dates as mdates\n",
        "import matplotlib.ticker as ticker\n",
        "from urllib.request import urlopen\n",
        "from bs4 import BeautifulSoup\n",
        "import requests\n",
        "from bokeh.models import ColumnDataSource\n",
        "from bokeh.transform import dodge\n",
        "import math\n",
        "from bokeh.io import curdoc\n",
        "curdoc().clear()\n",
        "from bokeh.io import push_notebook, show, output_notebook\n",
        "from bokeh.layouts import row\n",
        "from bokeh.plotting import figure\n",
        "from bokeh.transform import factor_cmap\n",
        "from bokeh.models import Legend\n",
        "output_notebook()"
      ],
      "metadata": {
        "id": "c_JZkcYED3cD"
      },
      "execution_count": null,
      "outputs": []
    },
    {
      "cell_type": "code",
      "metadata": {
        "id": "RrgI3cwji7Xf"
      },
      "source": [
        "# identification\n",
        "headers = {\"User-Agent\":\"Mozilla/5.0 (Windows NT 6.1; Win64; x64; rv:47.0) Gecko/20100101 Firefox/47.0\", \"Accept-Encoding\":\"gzip, deflate\", \"Accept\":\"text/html,application/xhtml+xml,application/xml;q=0.9,*/*;q=0.8\", \"DNT\":\"1\",\"Connection\":\"close\", \"Upgrade-Insecure-Requests\":\"1\"}\n"
      ],
      "execution_count": null,
      "outputs": []
    },
    {
      "cell_type": "code",
      "source": [
        "#requested url\n",
        "r = requests.get('https://www.amazon.in/s?i=computers&bbn=976392031&rh=n%3A4364644031&ref=mega_elec_s23_2_1_2_6', headers=headers)#, proxies=proxies)"
      ],
      "metadata": {
        "id": "pDsfDRl3Cmso"
      },
      "execution_count": null,
      "outputs": []
    },
    {
      "cell_type": "code",
      "source": [
        "r"
      ],
      "metadata": {
        "colab": {
          "base_uri": "https://localhost:8080/"
        },
        "id": "5HIYTGoFCnqa",
        "outputId": "1b7ec43c-dc4f-42d6-888a-c9148f931803"
      },
      "execution_count": null,
      "outputs": [
        {
          "output_type": "execute_result",
          "data": {
            "text/plain": [
              "<Response [200]>"
            ]
          },
          "metadata": {},
          "execution_count": 114
        }
      ]
    },
    {
      "cell_type": "code",
      "source": [
        "content = r.content\n",
        "content"
      ],
      "metadata": {
        "id": "JSdER4KJKKh7"
      },
      "execution_count": null,
      "outputs": []
    },
    {
      "cell_type": "code",
      "source": [
        "soup = BeautifulSoup(content)"
      ],
      "metadata": {
        "id": "U3YGyRe-CntX"
      },
      "execution_count": null,
      "outputs": []
    },
    {
      "cell_type": "code",
      "source": [
        "name = soup.find_all('span', attrs={'class':'a-size-base-plus a-color-base a-text-normal'})\n",
        "for i in range(len(name)):\n",
        "  print(name[i].text)"
      ],
      "metadata": {
        "id": "Lorl99ChTXBc"
      },
      "execution_count": null,
      "outputs": []
    },
    {
      "cell_type": "code",
      "source": [
        "rating = soup.find_all('span', attrs={'class':'a-icon-alt'})\n",
        "for i in range(len(rating)):\n",
        "  print(rating[i].text)"
      ],
      "metadata": {
        "id": "gSyoJASpCnwM"
      },
      "execution_count": null,
      "outputs": []
    },
    {
      "cell_type": "code",
      "source": [
        "customer_rated = soup.find_all('span', attrs={'class':'a-size-base s-underline-text'})\n",
        "for i in range(len(customer_rated)):\n",
        "  print(customer_rated[i].text)"
      ],
      "metadata": {
        "id": "bCtYtj8PPUDW"
      },
      "execution_count": null,
      "outputs": []
    },
    {
      "cell_type": "code",
      "source": [
        "price = soup.find_all('span', attrs={'class':'a-price-whole'})\n",
        "for i in range(len(price)):\n",
        "  print(price[i].text)"
      ],
      "metadata": {
        "id": "2itvaxtgQhfu"
      },
      "execution_count": null,
      "outputs": []
    },
    {
      "cell_type": "code",
      "source": [
        "no_pages = 2\n",
        "\n",
        "def get_data(pageNo):  \n",
        "    headers = {\"User-Agent\":\"Mozilla/5.0 (Windows NT 6.1; Win64; x64; rv:47.0) Gecko/20100101 Firefox/47.0\", \"Accept-Encoding\":\"gzip, deflate\", \"Accept\":\"text/html,application/xhtml+xml,application/xml;q=0.9,*/*;q=0.8\", \"DNT\":\"1\",\"Connection\":\"close\", \"Upgrade-Insecure-Requests\":\"1\"}\n",
        "\n",
        "    r = requests.get('https://www.amazon.in/s?i=computers&bbn=976392031&rh=n%3A4364644031&page='+str(pageNo)+'&qid=1685454878&ref=sr_pg_'+str(pageNo), headers=headers)#, proxies=proxies)\n",
        "    content = r.content\n",
        "    soup = BeautifulSoup(content)\n",
        "    #print(soup)\n",
        "\n",
        "    alls = []\n",
        "    for d in soup.find_all('div', attrs={'class':'sg-col-inner'}):\n",
        "        #print(d)\n",
        "        descripcion = d.find('span', attrs={'class':'a-size-base-plus a-color-base a-text-normal'})\n",
        "        #n = name.find_all('img', alt=True)\n",
        "        #print(n[0]['alt'])\n",
        "        rating = d.find('span', attrs={'class':'a-row a-size-small'})\n",
        "        users_rated = d.find('span', attrs={'class':'a-size-base s-underline-text'})\n",
        "        price = d.find('span', attrs={'class':'a-price-whole'})\n",
        "\n",
        "        all1=[]\n",
        "\n",
        "        if descripcion is not None:\n",
        "            #print(n[0]['alt'])\n",
        "            #all1.append(n[0]['alt'])\n",
        "            all1.append(descripcion.text)\n",
        "        else:\n",
        "            all1.append(\"unknown-product\")\n",
        "\n",
        "        if rating is not None:\n",
        "            #print(rating.text)\n",
        "            all1.append(rating.text)\n",
        "        else:\n",
        "            all1.append('1')\n",
        "\n",
        "        if users_rated is not None:\n",
        "            #print(price.text)\n",
        "            all1.append(users_rated.text)\n",
        "        else:\n",
        "            all1.append('0')     \n",
        "\n",
        "        if price is not None:\n",
        "            #print(price.text)\n",
        "            all1.append(price.text)\n",
        "        else:\n",
        "            all1.append('0')\n",
        "        alls.append(all1)    \n",
        "    return alls"
      ],
      "metadata": {
        "id": "Oxw4w-KfFHfP"
      },
      "execution_count": null,
      "outputs": []
    },
    {
      "cell_type": "code",
      "source": [
        "# Obtener los datos\n",
        "alls = get_data(no_pages)\n",
        "\n",
        "# Crear un DataFrame a partir de la lista 'alls'\n",
        "data = pd.DataFrame(alls, columns=['Descripción', 'Rating', 'Usuarios calificados', 'Precio'])"
      ],
      "metadata": {
        "id": "l09i0Yb9NgP9"
      },
      "execution_count": null,
      "outputs": []
    },
    {
      "cell_type": "code",
      "source": [
        "# Convertir la columna a tipo float\n",
        "data['Rating'] = pd.to_numeric(data['Rating'], errors='coerce')\n",
        "\n",
        "# Eliminar filas con valores nulos o NaN\n",
        "data = data.dropna(subset=['Rating'])"
      ],
      "metadata": {
        "id": "gdQioh8BNvwW"
      },
      "execution_count": null,
      "outputs": []
    },
    {
      "cell_type": "code",
      "source": [
        "results = []\n",
        "for i in range(1, no_pages+1):\n",
        "  results.append(get_data(i))"
      ],
      "metadata": {
        "id": "fehBbiAnWrY8"
      },
      "execution_count": null,
      "outputs": []
    },
    {
      "cell_type": "code",
      "source": [
        "results"
      ],
      "metadata": {
        "id": "DHXT9gd8ZXjN"
      },
      "execution_count": null,
      "outputs": []
    },
    {
      "cell_type": "code",
      "source": [
        "flatten = lambda l: [item for sublist in l for item in sublist]\n",
        "df = pd.DataFrame(flatten(results),columns=['Laptop Name','Rating', 'Customers_Rated', 'Price'])\n",
        "df.to_csv('amazon_products.csv', index=False, encoding='utf-8')"
      ],
      "metadata": {
        "id": "YZA_igAvZbHE"
      },
      "execution_count": null,
      "outputs": []
    },
    {
      "cell_type": "code",
      "source": [
        "df"
      ],
      "metadata": {
        "id": "IeUze4CqIHLI"
      },
      "execution_count": null,
      "outputs": []
    },
    {
      "cell_type": "code",
      "source": [
        "df['Rating'] = df['Rating'].apply(lambda x: x.split()[0])\n",
        "df['Rating'] = pd.to_numeric(df['Rating'])\n",
        "df['Rating'].head()\n",
        "\n",
        "df['Price'] = df['Price'].str.replace('₹', '')\n",
        "df['Price'] = df['Price'].apply(lambda x: x.split('.')[0])\n",
        "df['Price'] = df['Price'].str.replace(',', '')\n",
        "df['Price'] = df['Price'].astype(int)\n",
        "\n",
        "df[\"Customers_Rated\"] = df[\"Customers_Rated\"].str.replace(',', '')\n",
        "\n",
        "df['Customers_Rated'] = pd.to_numeric(df['Customers_Rated'], errors='ignore')\n",
        "\n",
        "df.head()\n",
        "\n",
        "#Reemplazar los valores en cero del dataframe por NaN\n",
        "df.replace(str(0), np.nan, inplace=True)\n",
        "df.replace(0, np.nan, inplace=True)\n",
        "\n"
      ],
      "metadata": {
        "id": "GOyHrpvsIVi4"
      },
      "execution_count": null,
      "outputs": []
    },
    {
      "cell_type": "code",
      "source": [
        "# mas correccion de data frames\n",
        "# Eliminar filas con valores nulos (NaN)\n",
        "df = df.dropna()\n",
        "\n",
        "# Eliminar filas con la cadena 'unknown-product' en la columna 'Laptop Name'\n",
        "df = df[df['Laptop Name'] != 'unknown-product']\n",
        "\n",
        "# Restablecer los índices después de eliminar las filas\n",
        "df = df.reset_index(drop=True)\n",
        "\n",
        "print(df)"
      ],
      "metadata": {
        "id": "4nzW60TjKBpz"
      },
      "execution_count": null,
      "outputs": []
    },
    {
      "cell_type": "code",
      "source": [
        "# Eliminar los valores de tipo cadena en la columna 'Columna1'\n",
        "df['Price'] = pd.to_numeric(df['Price'], errors='coerce')\n",
        "\n",
        "# Convertir la columna 'Columna1' en tipo float\n",
        "df['Price'] = df['Price'].astype(float)"
      ],
      "metadata": {
        "id": "nc-Nb0MALVKP"
      },
      "execution_count": null,
      "outputs": []
    },
    {
      "cell_type": "code",
      "source": [
        "df['Customers_Rated'] = df['Customers_Rated'].astype(int)"
      ],
      "metadata": {
        "id": "dDlKrgsiK_G2"
      },
      "execution_count": null,
      "outputs": []
    },
    {
      "cell_type": "code",
      "source": [
        "data = df.sort_values([\"Price\"], axis=0, ascending=False)[:10]\n",
        "data"
      ],
      "metadata": {
        "id": "CyoBokYpI66U"
      },
      "execution_count": null,
      "outputs": []
    },
    {
      "cell_type": "code",
      "source": [
        "# Convertir la columna a tipo numérico\n",
        "data.iloc[:, 1] = pd.to_numeric(data.iloc[:, 1], errors='coerce')\n",
        "\n",
        "# Resto del código de Bokeh\n",
        "p = figure(x_range=data.iloc[:, 1], plot_width=800, plot_height=550, title=\"Autores con los libros mas caros\", toolbar_location=None, tools=\"\")\n",
        "p.vbar(x=data.iloc[:, 1], top=data.iloc[:, 4], width=0.9)\n",
        "p.xgrid.grid_line_color = None\n",
        "# aca ya estuve dos dias, y sigo sin entender porque no funciona."
      ],
      "metadata": {
        "colab": {
          "base_uri": "https://localhost:8080/",
          "height": 380
        },
        "id": "BNyqzx2mIyuQ",
        "outputId": "6aa7257f-d75b-4c83-dc1d-58bb55ff9c4f"
      },
      "execution_count": null,
      "outputs": [
        {
          "output_type": "error",
          "ename": "ValueError",
          "evalue": "ignored",
          "traceback": [
            "\u001b[0;31m---------------------------------------------------------------------------\u001b[0m",
            "\u001b[0;31mValueError\u001b[0m                                Traceback (most recent call last)",
            "\u001b[0;32m<ipython-input-133-31c08bfa5a4b>\u001b[0m in \u001b[0;36m<cell line: 5>\u001b[0;34m()\u001b[0m\n\u001b[1;32m      3\u001b[0m \u001b[0;34m\u001b[0m\u001b[0m\n\u001b[1;32m      4\u001b[0m \u001b[0;31m# Resto del código de Bokeh\u001b[0m\u001b[0;34m\u001b[0m\u001b[0;34m\u001b[0m\u001b[0m\n\u001b[0;32m----> 5\u001b[0;31m \u001b[0mp\u001b[0m \u001b[0;34m=\u001b[0m \u001b[0mfigure\u001b[0m\u001b[0;34m(\u001b[0m\u001b[0mx_range\u001b[0m\u001b[0;34m=\u001b[0m\u001b[0mdata\u001b[0m\u001b[0;34m.\u001b[0m\u001b[0miloc\u001b[0m\u001b[0;34m[\u001b[0m\u001b[0;34m:\u001b[0m\u001b[0;34m,\u001b[0m \u001b[0;36m1\u001b[0m\u001b[0;34m]\u001b[0m\u001b[0;34m,\u001b[0m \u001b[0mplot_width\u001b[0m\u001b[0;34m=\u001b[0m\u001b[0;36m800\u001b[0m\u001b[0;34m,\u001b[0m \u001b[0mplot_height\u001b[0m\u001b[0;34m=\u001b[0m\u001b[0;36m550\u001b[0m\u001b[0;34m,\u001b[0m \u001b[0mtitle\u001b[0m\u001b[0;34m=\u001b[0m\u001b[0;34m\"Autores con los libros mas caros\"\u001b[0m\u001b[0;34m,\u001b[0m \u001b[0mtoolbar_location\u001b[0m\u001b[0;34m=\u001b[0m\u001b[0;32mNone\u001b[0m\u001b[0;34m,\u001b[0m \u001b[0mtools\u001b[0m\u001b[0;34m=\u001b[0m\u001b[0;34m\"\"\u001b[0m\u001b[0;34m)\u001b[0m\u001b[0;34m\u001b[0m\u001b[0;34m\u001b[0m\u001b[0m\n\u001b[0m\u001b[1;32m      6\u001b[0m \u001b[0mp\u001b[0m\u001b[0;34m.\u001b[0m\u001b[0mvbar\u001b[0m\u001b[0;34m(\u001b[0m\u001b[0mx\u001b[0m\u001b[0;34m=\u001b[0m\u001b[0mdata\u001b[0m\u001b[0;34m.\u001b[0m\u001b[0miloc\u001b[0m\u001b[0;34m[\u001b[0m\u001b[0;34m:\u001b[0m\u001b[0;34m,\u001b[0m \u001b[0;36m1\u001b[0m\u001b[0;34m]\u001b[0m\u001b[0;34m,\u001b[0m \u001b[0mtop\u001b[0m\u001b[0;34m=\u001b[0m\u001b[0mdata\u001b[0m\u001b[0;34m.\u001b[0m\u001b[0miloc\u001b[0m\u001b[0;34m[\u001b[0m\u001b[0;34m:\u001b[0m\u001b[0;34m,\u001b[0m \u001b[0;36m4\u001b[0m\u001b[0;34m]\u001b[0m\u001b[0;34m,\u001b[0m \u001b[0mwidth\u001b[0m\u001b[0;34m=\u001b[0m\u001b[0;36m0.9\u001b[0m\u001b[0;34m)\u001b[0m\u001b[0;34m\u001b[0m\u001b[0;34m\u001b[0m\u001b[0m\n\u001b[1;32m      7\u001b[0m \u001b[0mp\u001b[0m\u001b[0;34m.\u001b[0m\u001b[0mxgrid\u001b[0m\u001b[0;34m.\u001b[0m\u001b[0mgrid_line_color\u001b[0m \u001b[0;34m=\u001b[0m \u001b[0;32mNone\u001b[0m\u001b[0;34m\u001b[0m\u001b[0;34m\u001b[0m\u001b[0m\n",
            "\u001b[0;32m/usr/local/lib/python3.10/dist-packages/bokeh/plotting/figure.py\u001b[0m in \u001b[0;36mfigure\u001b[0;34m(**kwargs)\u001b[0m\n\u001b[1;32m    663\u001b[0m \u001b[0;34m\u001b[0m\u001b[0m\n\u001b[1;32m    664\u001b[0m     '''\n\u001b[0;32m--> 665\u001b[0;31m     \u001b[0;32mreturn\u001b[0m \u001b[0mFigure\u001b[0m\u001b[0;34m(\u001b[0m\u001b[0;34m**\u001b[0m\u001b[0mkwargs\u001b[0m\u001b[0;34m)\u001b[0m\u001b[0;34m\u001b[0m\u001b[0;34m\u001b[0m\u001b[0m\n\u001b[0m\u001b[1;32m    666\u001b[0m \u001b[0;34m\u001b[0m\u001b[0m\n\u001b[1;32m    667\u001b[0m \u001b[0;32mdef\u001b[0m \u001b[0mmarkers\u001b[0m\u001b[0;34m(\u001b[0m\u001b[0;34m)\u001b[0m\u001b[0;34m:\u001b[0m\u001b[0;34m\u001b[0m\u001b[0;34m\u001b[0m\u001b[0m\n",
            "\u001b[0;32m/usr/local/lib/python3.10/dist-packages/bokeh/plotting/figure.py\u001b[0m in \u001b[0;36m__init__\u001b[0;34m(self, *arg, **kw)\u001b[0m\n\u001b[1;32m    176\u001b[0m         \u001b[0msuper\u001b[0m\u001b[0;34m(\u001b[0m\u001b[0;34m)\u001b[0m\u001b[0;34m.\u001b[0m\u001b[0m__init__\u001b[0m\u001b[0;34m(\u001b[0m\u001b[0;34m*\u001b[0m\u001b[0marg\u001b[0m\u001b[0;34m,\u001b[0m \u001b[0;34m**\u001b[0m\u001b[0mkw\u001b[0m\u001b[0;34m)\u001b[0m\u001b[0;34m\u001b[0m\u001b[0;34m\u001b[0m\u001b[0m\n\u001b[1;32m    177\u001b[0m \u001b[0;34m\u001b[0m\u001b[0m\n\u001b[0;32m--> 178\u001b[0;31m         \u001b[0mself\u001b[0m\u001b[0;34m.\u001b[0m\u001b[0mx_range\u001b[0m \u001b[0;34m=\u001b[0m \u001b[0mget_range\u001b[0m\u001b[0;34m(\u001b[0m\u001b[0mopts\u001b[0m\u001b[0;34m.\u001b[0m\u001b[0mx_range\u001b[0m\u001b[0;34m)\u001b[0m\u001b[0;34m\u001b[0m\u001b[0;34m\u001b[0m\u001b[0m\n\u001b[0m\u001b[1;32m    179\u001b[0m         \u001b[0mself\u001b[0m\u001b[0;34m.\u001b[0m\u001b[0my_range\u001b[0m \u001b[0;34m=\u001b[0m \u001b[0mget_range\u001b[0m\u001b[0;34m(\u001b[0m\u001b[0mopts\u001b[0m\u001b[0;34m.\u001b[0m\u001b[0my_range\u001b[0m\u001b[0;34m)\u001b[0m\u001b[0;34m\u001b[0m\u001b[0;34m\u001b[0m\u001b[0m\n\u001b[1;32m    180\u001b[0m \u001b[0;34m\u001b[0m\u001b[0m\n",
            "\u001b[0;32m/usr/local/lib/python3.10/dist-packages/bokeh/plotting/_plot.py\u001b[0m in \u001b[0;36mget_range\u001b[0;34m(range_input)\u001b[0m\n\u001b[1;32m     87\u001b[0m             \u001b[0;32mexcept\u001b[0m \u001b[0mValueError\u001b[0m\u001b[0;34m:\u001b[0m  \u001b[0;31m# @mattpap suggests ValidationError instead\u001b[0m\u001b[0;34m\u001b[0m\u001b[0;34m\u001b[0m\u001b[0m\n\u001b[1;32m     88\u001b[0m                 \u001b[0;32mpass\u001b[0m\u001b[0;34m\u001b[0m\u001b[0;34m\u001b[0m\u001b[0m\n\u001b[0;32m---> 89\u001b[0;31m     \u001b[0;32mraise\u001b[0m \u001b[0mValueError\u001b[0m\u001b[0;34m(\u001b[0m\u001b[0;34m\"Unrecognized range input: '%s'\"\u001b[0m \u001b[0;34m%\u001b[0m \u001b[0mstr\u001b[0m\u001b[0;34m(\u001b[0m\u001b[0mrange_input\u001b[0m\u001b[0;34m)\u001b[0m\u001b[0;34m)\u001b[0m\u001b[0;34m\u001b[0m\u001b[0;34m\u001b[0m\u001b[0m\n\u001b[0m\u001b[1;32m     90\u001b[0m \u001b[0;34m\u001b[0m\u001b[0m\n\u001b[1;32m     91\u001b[0m \u001b[0;32mdef\u001b[0m \u001b[0mget_scale\u001b[0m\u001b[0;34m(\u001b[0m\u001b[0mrange_input\u001b[0m\u001b[0;34m,\u001b[0m \u001b[0maxis_type\u001b[0m\u001b[0;34m)\u001b[0m\u001b[0;34m:\u001b[0m\u001b[0;34m\u001b[0m\u001b[0;34m\u001b[0m\u001b[0m\n",
            "\u001b[0;31mValueError\u001b[0m: Unrecognized range input: '[1 1 1 1 1 1 1 1 1 1]'"
          ]
        }
      ]
    },
    {
      "cell_type": "markdown",
      "metadata": {
        "id": "ONXdFPTFiY9a"
      },
      "source": [
        "# Referencias\n",
        "\n",
        "[A Beginner’s Guide to learn web scraping with python!](https://www.edureka.co/blog/web-scraping-with-python/#steps)\n",
        "\n",
        "[Web scraping con Python](https://www.ionos.es/digitalguide/paginas-web/desarrollo-web/web-scraping-con-python/)\n"
      ]
    }
  ]
}